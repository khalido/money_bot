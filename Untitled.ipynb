{
 "cells": [
  {
   "cell_type": "code",
   "execution_count": 3,
   "metadata": {
    "collapsed": true
   },
   "outputs": [],
   "source": [
    "import pandas as pd\n",
    "post_codes = pd.read_csv(\"data/Australian_Post_Codes_Lat_Lon.csv\")\n",
    "bb = pd.read_csv(\"data/transactions.csv\")"
   ]
  },
  {
   "cell_type": "code",
   "execution_count": 4,
   "metadata": {},
   "outputs": [
    {
     "data": {
      "text/html": [
       "<div>\n",
       "<style>\n",
       "    .dataframe thead tr:only-child th {\n",
       "        text-align: right;\n",
       "    }\n",
       "\n",
       "    .dataframe thead th {\n",
       "        text-align: left;\n",
       "    }\n",
       "\n",
       "    .dataframe tbody tr th {\n",
       "        vertical-align: top;\n",
       "    }\n",
       "</style>\n",
       "<table border=\"1\" class=\"dataframe\">\n",
       "  <thead>\n",
       "    <tr style=\"text-align: right;\">\n",
       "      <th></th>\n",
       "      <th>postcode</th>\n",
       "      <th>suburb</th>\n",
       "      <th>state</th>\n",
       "      <th>dc</th>\n",
       "      <th>type</th>\n",
       "      <th>lat</th>\n",
       "      <th>lon</th>\n",
       "    </tr>\n",
       "  </thead>\n",
       "  <tbody>\n",
       "    <tr>\n",
       "      <th>0</th>\n",
       "      <td>200</td>\n",
       "      <td>AUSTRALIAN NATIONAL UNIVERSITY</td>\n",
       "      <td>ACT</td>\n",
       "      <td>AUSTRALIAN NATIONAL UNI LPO</td>\n",
       "      <td>Post Office Boxes</td>\n",
       "      <td>-35.277272</td>\n",
       "      <td>149.117136</td>\n",
       "    </tr>\n",
       "    <tr>\n",
       "      <th>1</th>\n",
       "      <td>221</td>\n",
       "      <td>BARTON</td>\n",
       "      <td>ACT</td>\n",
       "      <td>NaN</td>\n",
       "      <td>LVR</td>\n",
       "      <td>-35.201372</td>\n",
       "      <td>149.095065</td>\n",
       "    </tr>\n",
       "    <tr>\n",
       "      <th>2</th>\n",
       "      <td>800</td>\n",
       "      <td>DARWIN</td>\n",
       "      <td>NT</td>\n",
       "      <td>DARWIN DELIVERY CENTRE</td>\n",
       "      <td>Delivery Area</td>\n",
       "      <td>-12.801028</td>\n",
       "      <td>130.955789</td>\n",
       "    </tr>\n",
       "    <tr>\n",
       "      <th>3</th>\n",
       "      <td>801</td>\n",
       "      <td>DARWIN</td>\n",
       "      <td>NT</td>\n",
       "      <td>DARWIN DELIVERY CENTRE</td>\n",
       "      <td>Post Office Boxes</td>\n",
       "      <td>-12.801028</td>\n",
       "      <td>130.955789</td>\n",
       "    </tr>\n",
       "    <tr>\n",
       "      <th>4</th>\n",
       "      <td>804</td>\n",
       "      <td>PARAP</td>\n",
       "      <td>NT</td>\n",
       "      <td>PARAP</td>\n",
       "      <td>Post Office Boxes</td>\n",
       "      <td>-12.432181</td>\n",
       "      <td>130.843310</td>\n",
       "    </tr>\n",
       "  </tbody>\n",
       "</table>\n",
       "</div>"
      ],
      "text/plain": [
       "   postcode                          suburb state  \\\n",
       "0       200  AUSTRALIAN NATIONAL UNIVERSITY   ACT   \n",
       "1       221                          BARTON   ACT   \n",
       "2       800                          DARWIN    NT   \n",
       "3       801                          DARWIN    NT   \n",
       "4       804                           PARAP    NT   \n",
       "\n",
       "                            dc                                           type  \\\n",
       "0  AUSTRALIAN NATIONAL UNI LPO  Post Office Boxes                               \n",
       "1                          NaN  LVR                                             \n",
       "2       DARWIN DELIVERY CENTRE  Delivery Area                                   \n",
       "3       DARWIN DELIVERY CENTRE  Post Office Boxes                               \n",
       "4                        PARAP  Post Office Boxes                               \n",
       "\n",
       "         lat         lon  \n",
       "0 -35.277272  149.117136  \n",
       "1 -35.201372  149.095065  \n",
       "2 -12.801028  130.955789  \n",
       "3 -12.801028  130.955789  \n",
       "4 -12.432181  130.843310  "
      ]
     },
     "execution_count": 4,
     "metadata": {},
     "output_type": "execute_result"
    }
   ],
   "source": [
    "post_codes.head()"
   ]
  },
  {
   "cell_type": "code",
   "execution_count": 5,
   "metadata": {},
   "outputs": [
    {
     "data": {
      "text/html": [
       "<div>\n",
       "<style>\n",
       "    .dataframe thead tr:only-child th {\n",
       "        text-align: right;\n",
       "    }\n",
       "\n",
       "    .dataframe thead th {\n",
       "        text-align: left;\n",
       "    }\n",
       "\n",
       "    .dataframe tbody tr th {\n",
       "        vertical-align: top;\n",
       "    }\n",
       "</style>\n",
       "<table border=\"1\" class=\"dataframe\">\n",
       "  <thead>\n",
       "    <tr style=\"text-align: right;\">\n",
       "      <th></th>\n",
       "      <th>17/10/2017</th>\n",
       "      <th>-12.00</th>\n",
       "      <th>RETAIL PURCHASE ULTIMO MINIMARKET QPS, ULTIMO 1510 AUD000000001200</th>\n",
       "    </tr>\n",
       "  </thead>\n",
       "  <tbody>\n",
       "    <tr>\n",
       "      <th>0</th>\n",
       "      <td>17/10/2017</td>\n",
       "      <td>-29.81</td>\n",
       "      <td>RETAIL PURCHASE COLES 08001, RANDWICK 1610 AUD...</td>\n",
       "    </tr>\n",
       "    <tr>\n",
       "      <th>1</th>\n",
       "      <td>17/10/2017</td>\n",
       "      <td>-39.76</td>\n",
       "      <td>RETAIL PURCHASE COLES 0839, BROADWAY 1510 AUD0...</td>\n",
       "    </tr>\n",
       "  </tbody>\n",
       "</table>\n",
       "</div>"
      ],
      "text/plain": [
       "   17/10/2017  -12.00  \\\n",
       "0  17/10/2017  -29.81   \n",
       "1  17/10/2017  -39.76   \n",
       "\n",
       "  RETAIL PURCHASE ULTIMO MINIMARKET QPS, ULTIMO 1510 AUD000000001200  \n",
       "0  RETAIL PURCHASE COLES 08001, RANDWICK 1610 AUD...                  \n",
       "1  RETAIL PURCHASE COLES 0839, BROADWAY 1510 AUD0...                  "
      ]
     },
     "execution_count": 5,
     "metadata": {},
     "output_type": "execute_result"
    }
   ],
   "source": [
    "bb.head(2)"
   ]
  },
  {
   "cell_type": "code",
   "execution_count": null,
   "metadata": {
    "collapsed": true
   },
   "outputs": [],
   "source": []
  }
 ],
 "metadata": {
  "kernelspec": {
   "display_name": "Python 3",
   "language": "python",
   "name": "python3"
  },
  "language_info": {
   "codemirror_mode": {
    "name": "ipython",
    "version": 3
   },
   "file_extension": ".py",
   "mimetype": "text/x-python",
   "name": "python",
   "nbconvert_exporter": "python",
   "pygments_lexer": "ipython3",
   "version": "3.6.1"
  }
 },
 "nbformat": 4,
 "nbformat_minor": 2
}
