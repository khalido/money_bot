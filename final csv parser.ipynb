{
 "cells": [
  {
   "cell_type": "code",
   "execution_count": 2,
   "metadata": {},
   "outputs": [],
   "source": [
    "import utils\n",
    "import pandas as pd"
   ]
  },
  {
   "cell_type": "markdown",
   "metadata": {},
   "source": [
    "# dealing with a typical bank csv\n",
    "\n",
    "it looks like:"
   ]
  },
  {
   "cell_type": "code",
   "execution_count": 22,
   "metadata": {},
   "outputs": [
    {
     "data": {
      "text/html": [
       "<div>\n",
       "<style>\n",
       "    .dataframe thead tr:only-child th {\n",
       "        text-align: right;\n",
       "    }\n",
       "\n",
       "    .dataframe thead th {\n",
       "        text-align: left;\n",
       "    }\n",
       "\n",
       "    .dataframe tbody tr th {\n",
       "        vertical-align: top;\n",
       "    }\n",
       "</style>\n",
       "<table border=\"1\" class=\"dataframe\">\n",
       "  <thead>\n",
       "    <tr style=\"text-align: right;\">\n",
       "      <th></th>\n",
       "      <th>17/10/2017</th>\n",
       "      <th>-12.00</th>\n",
       "      <th>RETAIL PURCHASE ULTIMO MINIMARKET QPS, ULTIMO 1510 AUD000000001200</th>\n",
       "    </tr>\n",
       "  </thead>\n",
       "  <tbody>\n",
       "    <tr>\n",
       "      <th>0</th>\n",
       "      <td>17/10/2017</td>\n",
       "      <td>-29.81</td>\n",
       "      <td>RETAIL PURCHASE COLES 08001, RANDWICK 1610 AUD...</td>\n",
       "    </tr>\n",
       "    <tr>\n",
       "      <th>1</th>\n",
       "      <td>17/10/2017</td>\n",
       "      <td>-39.76</td>\n",
       "      <td>RETAIL PURCHASE COLES 0839, BROADWAY 1510 AUD0...</td>\n",
       "    </tr>\n",
       "    <tr>\n",
       "      <th>2</th>\n",
       "      <td>17/10/2017</td>\n",
       "      <td>-9.00</td>\n",
       "      <td>RETAIL PURCHASE UBER *TRIP 67OVN, SYDNEY 1610 ...</td>\n",
       "    </tr>\n",
       "    <tr>\n",
       "      <th>3</th>\n",
       "      <td>17/10/2017</td>\n",
       "      <td>-68.00</td>\n",
       "      <td>RETAIL PURCHASE PUB LIFE KITCHEN, ULTIMO 1310 ...</td>\n",
       "    </tr>\n",
       "    <tr>\n",
       "      <th>4</th>\n",
       "      <td>17/10/2017</td>\n",
       "      <td>-25.20</td>\n",
       "      <td>RETAIL PURCHASE Telstra Accessories, MELBOURNE...</td>\n",
       "    </tr>\n",
       "  </tbody>\n",
       "</table>\n",
       "</div>"
      ],
      "text/plain": [
       "   17/10/2017  -12.00  \\\n",
       "0  17/10/2017  -29.81   \n",
       "1  17/10/2017  -39.76   \n",
       "2  17/10/2017   -9.00   \n",
       "3  17/10/2017  -68.00   \n",
       "4  17/10/2017  -25.20   \n",
       "\n",
       "  RETAIL PURCHASE ULTIMO MINIMARKET QPS, ULTIMO 1510 AUD000000001200  \n",
       "0  RETAIL PURCHASE COLES 08001, RANDWICK 1610 AUD...                  \n",
       "1  RETAIL PURCHASE COLES 0839, BROADWAY 1510 AUD0...                  \n",
       "2  RETAIL PURCHASE UBER *TRIP 67OVN, SYDNEY 1610 ...                  \n",
       "3  RETAIL PURCHASE PUB LIFE KITCHEN, ULTIMO 1310 ...                  \n",
       "4  RETAIL PURCHASE Telstra Accessories, MELBOURNE...                  "
      ]
     },
     "execution_count": 22,
     "metadata": {},
     "output_type": "execute_result"
    }
   ],
   "source": [
    "pd.read_csv(\"data/transactions.csv\").head()"
   ]
  },
  {
   "cell_type": "markdown",
   "metadata": {},
   "source": [
    "And tranforms into:"
   ]
  },
  {
   "cell_type": "code",
   "execution_count": 23,
   "metadata": {},
   "outputs": [
    {
     "name": "stdout",
     "output_type": "stream",
     "text": [
      "parsed file with typical parser\n"
     ]
    },
    {
     "data": {
      "text/html": [
       "<div>\n",
       "<style>\n",
       "    .dataframe thead tr:only-child th {\n",
       "        text-align: right;\n",
       "    }\n",
       "\n",
       "    .dataframe thead th {\n",
       "        text-align: left;\n",
       "    }\n",
       "\n",
       "    .dataframe tbody tr th {\n",
       "        vertical-align: top;\n",
       "    }\n",
       "</style>\n",
       "<table border=\"1\" class=\"dataframe\">\n",
       "  <thead>\n",
       "    <tr style=\"text-align: right;\">\n",
       "      <th></th>\n",
       "      <th>date</th>\n",
       "      <th>amount</th>\n",
       "      <th>description</th>\n",
       "      <th>category</th>\n",
       "      <th>merchant</th>\n",
       "      <th>suburb</th>\n",
       "      <th>deal_with_later</th>\n",
       "    </tr>\n",
       "  </thead>\n",
       "  <tbody>\n",
       "    <tr>\n",
       "      <th>0</th>\n",
       "      <td>2017-10-17</td>\n",
       "      <td>-12.00</td>\n",
       "      <td>RETAIL PURCHASE ULTIMO MINIMARKET QPS, ULTIMO ...</td>\n",
       "      <td>NaN</td>\n",
       "      <td>RETAIL PURCHASE ULTIMO MINIMARKET QPS</td>\n",
       "      <td>ULTIMO</td>\n",
       "      <td>AUD000000001200</td>\n",
       "    </tr>\n",
       "    <tr>\n",
       "      <th>1</th>\n",
       "      <td>2017-10-17</td>\n",
       "      <td>-29.81</td>\n",
       "      <td>RETAIL PURCHASE COLES 08001, RANDWICK 1610 AUD...</td>\n",
       "      <td>NaN</td>\n",
       "      <td>RETAIL PURCHASE COLES 08001</td>\n",
       "      <td>RANDWICK</td>\n",
       "      <td>AUD000000002981</td>\n",
       "    </tr>\n",
       "    <tr>\n",
       "      <th>2</th>\n",
       "      <td>2017-10-17</td>\n",
       "      <td>-39.76</td>\n",
       "      <td>RETAIL PURCHASE COLES 0839, BROADWAY 1510 AUD0...</td>\n",
       "      <td>NaN</td>\n",
       "      <td>RETAIL PURCHASE COLES 0839</td>\n",
       "      <td>BROADWAY</td>\n",
       "      <td>AUD000000003976</td>\n",
       "    </tr>\n",
       "    <tr>\n",
       "      <th>3</th>\n",
       "      <td>2017-10-17</td>\n",
       "      <td>-9.00</td>\n",
       "      <td>RETAIL PURCHASE UBER *TRIP 67OVN, SYDNEY 1610 ...</td>\n",
       "      <td>NaN</td>\n",
       "      <td>RETAIL PURCHASE UBER *TRIP 67OVN</td>\n",
       "      <td>SYDNEY</td>\n",
       "      <td>AUD000000000900</td>\n",
       "    </tr>\n",
       "    <tr>\n",
       "      <th>4</th>\n",
       "      <td>2017-10-17</td>\n",
       "      <td>-68.00</td>\n",
       "      <td>RETAIL PURCHASE PUB LIFE KITCHEN, ULTIMO 1310 ...</td>\n",
       "      <td>NaN</td>\n",
       "      <td>RETAIL PURCHASE PUB LIFE KITCHEN</td>\n",
       "      <td>ULTIMO</td>\n",
       "      <td>AUD000000006800</td>\n",
       "    </tr>\n",
       "  </tbody>\n",
       "</table>\n",
       "</div>"
      ],
      "text/plain": [
       "        date  amount                                        description  \\\n",
       "0 2017-10-17  -12.00  RETAIL PURCHASE ULTIMO MINIMARKET QPS, ULTIMO ...   \n",
       "1 2017-10-17  -29.81  RETAIL PURCHASE COLES 08001, RANDWICK 1610 AUD...   \n",
       "2 2017-10-17  -39.76  RETAIL PURCHASE COLES 0839, BROADWAY 1510 AUD0...   \n",
       "3 2017-10-17   -9.00  RETAIL PURCHASE UBER *TRIP 67OVN, SYDNEY 1610 ...   \n",
       "4 2017-10-17  -68.00  RETAIL PURCHASE PUB LIFE KITCHEN, ULTIMO 1310 ...   \n",
       "\n",
       "   category                               merchant    suburb  deal_with_later  \n",
       "0       NaN  RETAIL PURCHASE ULTIMO MINIMARKET QPS    ULTIMO  AUD000000001200  \n",
       "1       NaN            RETAIL PURCHASE COLES 08001  RANDWICK  AUD000000002981  \n",
       "2       NaN             RETAIL PURCHASE COLES 0839  BROADWAY  AUD000000003976  \n",
       "3       NaN       RETAIL PURCHASE UBER *TRIP 67OVN    SYDNEY  AUD000000000900  \n",
       "4       NaN       RETAIL PURCHASE PUB LIFE KITCHEN    ULTIMO  AUD000000006800  "
      ]
     },
     "execution_count": 23,
     "metadata": {},
     "output_type": "execute_result"
    }
   ],
   "source": [
    "df = utils.parse_csv(\"data/transactions.csv\", \"typical\")\n",
    "df.head()"
   ]
  },
  {
   "cell_type": "code",
   "execution_count": 24,
   "metadata": {},
   "outputs": [
    {
     "data": {
      "text/plain": [
       "date               datetime64[ns]\n",
       "amount                    float64\n",
       "description                object\n",
       "category                  float64\n",
       "merchant                   object\n",
       "suburb                     object\n",
       "deal_with_later            object\n",
       "dtype: object"
      ]
     },
     "execution_count": 24,
     "metadata": {},
     "output_type": "execute_result"
    }
   ],
   "source": [
    "df.dtypes"
   ]
  },
  {
   "cell_type": "markdown",
   "metadata": {},
   "source": [
    "# dealing with a pocketbook exported csv\n",
    "\n",
    "it originaly looks like:"
   ]
  },
  {
   "cell_type": "code",
   "execution_count": 25,
   "metadata": {},
   "outputs": [
    {
     "data": {
      "text/html": [
       "<div>\n",
       "<style>\n",
       "    .dataframe thead tr:only-child th {\n",
       "        text-align: right;\n",
       "    }\n",
       "\n",
       "    .dataframe thead th {\n",
       "        text-align: left;\n",
       "    }\n",
       "\n",
       "    .dataframe tbody tr th {\n",
       "        vertical-align: top;\n",
       "    }\n",
       "</style>\n",
       "<table border=\"1\" class=\"dataframe\">\n",
       "  <thead>\n",
       "    <tr style=\"text-align: right;\">\n",
       "      <th></th>\n",
       "      <th>date</th>\n",
       "      <th>description</th>\n",
       "      <th>category</th>\n",
       "      <th>amount</th>\n",
       "      <th>notes</th>\n",
       "      <th>tags</th>\n",
       "      <th>bank</th>\n",
       "      <th>accountname</th>\n",
       "      <th>accountnumber</th>\n",
       "    </tr>\n",
       "  </thead>\n",
       "  <tbody>\n",
       "    <tr>\n",
       "      <th>0</th>\n",
       "      <td>01/07/2014</td>\n",
       "      <td>Gusto Italian Restasuratthani Thb000000236000</td>\n",
       "      <td>Entertainment - Food</td>\n",
       "      <td>-79.40</td>\n",
       "      <td>NaN</td>\n",
       "      <td>NaN</td>\n",
       "      <td>BENDIGO_BANK</td>\n",
       "      <td>MasterCard Account</td>\n",
       "      <td>694645268</td>\n",
       "    </tr>\n",
       "    <tr>\n",
       "      <th>1</th>\n",
       "      <td>01/07/2014</td>\n",
       "      <td>Tpg Internet Pty Ltnorth Ryde Aud000000005999</td>\n",
       "      <td>Utilities - Phone/Internet</td>\n",
       "      <td>-59.99</td>\n",
       "      <td>NaN</td>\n",
       "      <td>NaN</td>\n",
       "      <td>BENDIGO_BANK</td>\n",
       "      <td>MasterCard Account</td>\n",
       "      <td>694645268</td>\n",
       "    </tr>\n",
       "    <tr>\n",
       "      <th>2</th>\n",
       "      <td>03/07/2014</td>\n",
       "      <td>Mtpmedia Temple I8775784000 Usd000000005000</td>\n",
       "      <td>Web Hosting</td>\n",
       "      <td>-54.03</td>\n",
       "      <td>NaN</td>\n",
       "      <td>NaN</td>\n",
       "      <td>BENDIGO_BANK</td>\n",
       "      <td>MasterCard Account</td>\n",
       "      <td>694645268</td>\n",
       "    </tr>\n",
       "    <tr>\n",
       "      <th>3</th>\n",
       "      <td>04/07/2014</td>\n",
       "      <td>Ebanking Transfer</td>\n",
       "      <td>Transferring Money</td>\n",
       "      <td>665.00</td>\n",
       "      <td>NaN</td>\n",
       "      <td>NaN</td>\n",
       "      <td>BENDIGO_BANK</td>\n",
       "      <td>MasterCard Account</td>\n",
       "      <td>694645268</td>\n",
       "    </tr>\n",
       "    <tr>\n",
       "      <th>4</th>\n",
       "      <td>04/07/2014</td>\n",
       "      <td>Digitalocean Usd000000001000</td>\n",
       "      <td>NaN</td>\n",
       "      <td>-10.82</td>\n",
       "      <td>NaN</td>\n",
       "      <td>NaN</td>\n",
       "      <td>BENDIGO_BANK</td>\n",
       "      <td>MasterCard Account</td>\n",
       "      <td>694645268</td>\n",
       "    </tr>\n",
       "  </tbody>\n",
       "</table>\n",
       "</div>"
      ],
      "text/plain": [
       "         date                                    description  \\\n",
       "0  01/07/2014  Gusto Italian Restasuratthani Thb000000236000   \n",
       "1  01/07/2014  Tpg Internet Pty Ltnorth Ryde Aud000000005999   \n",
       "2  03/07/2014    Mtpmedia Temple I8775784000 Usd000000005000   \n",
       "3  04/07/2014                              Ebanking Transfer   \n",
       "4  04/07/2014                   Digitalocean Usd000000001000   \n",
       "\n",
       "                     category  amount notes tags          bank  \\\n",
       "0        Entertainment - Food  -79.40   NaN  NaN  BENDIGO_BANK   \n",
       "1  Utilities - Phone/Internet  -59.99   NaN  NaN  BENDIGO_BANK   \n",
       "2                 Web Hosting  -54.03   NaN  NaN  BENDIGO_BANK   \n",
       "3          Transferring Money  665.00   NaN  NaN  BENDIGO_BANK   \n",
       "4                         NaN  -10.82   NaN  NaN  BENDIGO_BANK   \n",
       "\n",
       "          accountname  accountnumber  \n",
       "0  MasterCard Account      694645268  \n",
       "1  MasterCard Account      694645268  \n",
       "2  MasterCard Account      694645268  \n",
       "3  MasterCard Account      694645268  \n",
       "4  MasterCard Account      694645268  "
      ]
     },
     "execution_count": 25,
     "metadata": {},
     "output_type": "execute_result"
    }
   ],
   "source": [
    "pd.read_csv(\"data/pocketbook-export.csv\").head()"
   ]
  },
  {
   "cell_type": "code",
   "execution_count": 26,
   "metadata": {},
   "outputs": [
    {
     "name": "stdout",
     "output_type": "stream",
     "text": [
      "parsed file with pocketbook parser\n"
     ]
    },
    {
     "data": {
      "text/html": [
       "<div>\n",
       "<style>\n",
       "    .dataframe thead tr:only-child th {\n",
       "        text-align: right;\n",
       "    }\n",
       "\n",
       "    .dataframe thead th {\n",
       "        text-align: left;\n",
       "    }\n",
       "\n",
       "    .dataframe tbody tr th {\n",
       "        vertical-align: top;\n",
       "    }\n",
       "</style>\n",
       "<table border=\"1\" class=\"dataframe\">\n",
       "  <thead>\n",
       "    <tr style=\"text-align: right;\">\n",
       "      <th></th>\n",
       "      <th>date</th>\n",
       "      <th>description</th>\n",
       "      <th>amount</th>\n",
       "      <th>category</th>\n",
       "      <th>subcategory</th>\n",
       "      <th>merchant</th>\n",
       "      <th>suburb</th>\n",
       "      <th>deal_with_later</th>\n",
       "    </tr>\n",
       "  </thead>\n",
       "  <tbody>\n",
       "    <tr>\n",
       "      <th>0</th>\n",
       "      <td>2014-01-07</td>\n",
       "      <td>Gusto Italian Restasuratthani Thb000000236000</td>\n",
       "      <td>-79.40</td>\n",
       "      <td>Entertainment</td>\n",
       "      <td>Food</td>\n",
       "      <td>Gusto Italian</td>\n",
       "      <td>Restasuratthani</td>\n",
       "      <td>Thb000000236000</td>\n",
       "    </tr>\n",
       "    <tr>\n",
       "      <th>1</th>\n",
       "      <td>2014-01-07</td>\n",
       "      <td>Tpg Internet Pty Ltnorth Ryde Aud000000005999</td>\n",
       "      <td>-59.99</td>\n",
       "      <td>Utilities</td>\n",
       "      <td>Phone/Internet</td>\n",
       "      <td>Tpg Internet Pty Ltnorth</td>\n",
       "      <td>Ryde</td>\n",
       "      <td>Aud000000005999</td>\n",
       "    </tr>\n",
       "    <tr>\n",
       "      <th>2</th>\n",
       "      <td>2014-03-07</td>\n",
       "      <td>Mtpmedia Temple I8775784000 Usd000000005000</td>\n",
       "      <td>-54.03</td>\n",
       "      <td>Web Hosting</td>\n",
       "      <td>None</td>\n",
       "      <td>Mtpmedia Temple</td>\n",
       "      <td>I8775784000</td>\n",
       "      <td>Usd000000005000</td>\n",
       "    </tr>\n",
       "    <tr>\n",
       "      <th>3</th>\n",
       "      <td>2014-04-07</td>\n",
       "      <td>Ebanking Transfer</td>\n",
       "      <td>665.00</td>\n",
       "      <td>Transferring Money</td>\n",
       "      <td>None</td>\n",
       "      <td>Ebanking Transfer</td>\n",
       "      <td>None</td>\n",
       "      <td>None</td>\n",
       "    </tr>\n",
       "    <tr>\n",
       "      <th>4</th>\n",
       "      <td>2014-04-07</td>\n",
       "      <td>Digitalocean Usd000000001000</td>\n",
       "      <td>-10.82</td>\n",
       "      <td>NaN</td>\n",
       "      <td>None</td>\n",
       "      <td>Digitalocean Usd000000001000</td>\n",
       "      <td>None</td>\n",
       "      <td>None</td>\n",
       "    </tr>\n",
       "  </tbody>\n",
       "</table>\n",
       "</div>"
      ],
      "text/plain": [
       "        date                                    description  amount  \\\n",
       "0 2014-01-07  Gusto Italian Restasuratthani Thb000000236000  -79.40   \n",
       "1 2014-01-07  Tpg Internet Pty Ltnorth Ryde Aud000000005999  -59.99   \n",
       "2 2014-03-07    Mtpmedia Temple I8775784000 Usd000000005000  -54.03   \n",
       "3 2014-04-07                              Ebanking Transfer  665.00   \n",
       "4 2014-04-07                   Digitalocean Usd000000001000  -10.82   \n",
       "\n",
       "             category     subcategory                      merchant  \\\n",
       "0       Entertainment            Food                 Gusto Italian   \n",
       "1           Utilities  Phone/Internet      Tpg Internet Pty Ltnorth   \n",
       "2         Web Hosting            None               Mtpmedia Temple   \n",
       "3  Transferring Money            None             Ebanking Transfer   \n",
       "4                 NaN            None  Digitalocean Usd000000001000   \n",
       "\n",
       "            suburb  deal_with_later  \n",
       "0  Restasuratthani  Thb000000236000  \n",
       "1             Ryde  Aud000000005999  \n",
       "2      I8775784000  Usd000000005000  \n",
       "3             None             None  \n",
       "4             None             None  "
      ]
     },
     "execution_count": 26,
     "metadata": {},
     "output_type": "execute_result"
    }
   ],
   "source": [
    "df = utils.parse_csv(\"data/pocketbook-export.csv\", \"pocketbook\")\n",
    "df.head()"
   ]
  },
  {
   "cell_type": "code",
   "execution_count": 27,
   "metadata": {},
   "outputs": [
    {
     "data": {
      "text/plain": [
       "date               datetime64[ns]\n",
       "description                object\n",
       "amount                    float64\n",
       "category                   object\n",
       "subcategory                object\n",
       "merchant                   object\n",
       "suburb                     object\n",
       "deal_with_later            object\n",
       "dtype: object"
      ]
     },
     "execution_count": 27,
     "metadata": {},
     "output_type": "execute_result"
    }
   ],
   "source": [
    "df.dtypes"
   ]
  },
  {
   "cell_type": "code",
   "execution_count": 13,
   "metadata": {},
   "outputs": [
    {
     "data": {
      "text/plain": [
       "'A'"
      ]
     },
     "execution_count": 13,
     "metadata": {},
     "output_type": "execute_result"
    }
   ],
   "source": [
    "what = None\n",
    "if not what: what = \"A\"\n",
    "what"
   ]
  },
  {
   "cell_type": "code",
   "execution_count": 14,
   "metadata": {},
   "outputs": [
    {
     "data": {
      "text/plain": [
       "'None'"
      ]
     },
     "execution_count": 14,
     "metadata": {},
     "output_type": "execute_result"
    }
   ],
   "source": [
    "str(None)"
   ]
  },
  {
   "cell_type": "code",
   "execution_count": 40,
   "metadata": {},
   "outputs": [
    {
     "data": {
      "text/plain": [
       "['tech',\n",
       " 'excercise',\n",
       " 'politics',\n",
       " 'transferring money',\n",
       " 'gadgets',\n",
       " 'spending money',\n",
       " 'bank',\n",
       " 'entertainment',\n",
       " 'car',\n",
       " 'home',\n",
       " 'groceries',\n",
       " 'bicycle',\n",
       " 'nan',\n",
       " 'personal',\n",
       " 'office',\n",
       " 'web hosting',\n",
       " 'utilities',\n",
       " 'food',\n",
       " 'amazon',\n",
       " 'education',\n",
       " 'kids',\n",
       " 'donations',\n",
       " 'clothing',\n",
       " 'travel']"
      ]
     },
     "execution_count": 40,
     "metadata": {},
     "output_type": "execute_result"
    }
   ],
   "source": [
    "list(set(df.category.astype(str).apply(str.lower).values))"
   ]
  },
  {
   "cell_type": "code",
   "execution_count": 42,
   "metadata": {},
   "outputs": [
    {
     "name": "stdout",
     "output_type": "stream",
     "text": [
      "3\n"
     ]
    }
   ],
   "source": [
    "if \"tech\" in list(set(df.category.astype(str).apply(str.lower).values)):\n",
    "    print(3)"
   ]
  },
  {
   "cell_type": "code",
   "execution_count": 45,
   "metadata": {},
   "outputs": [
    {
     "data": {
      "text/html": [
       "<div>\n",
       "<style>\n",
       "    .dataframe thead tr:only-child th {\n",
       "        text-align: right;\n",
       "    }\n",
       "\n",
       "    .dataframe thead th {\n",
       "        text-align: left;\n",
       "    }\n",
       "\n",
       "    .dataframe tbody tr th {\n",
       "        vertical-align: top;\n",
       "    }\n",
       "</style>\n",
       "<table border=\"1\" class=\"dataframe\">\n",
       "  <thead>\n",
       "    <tr style=\"text-align: right;\">\n",
       "      <th></th>\n",
       "      <th>date</th>\n",
       "      <th>description</th>\n",
       "      <th>amount</th>\n",
       "      <th>category</th>\n",
       "      <th>subcategory</th>\n",
       "      <th>merchant</th>\n",
       "      <th>suburb</th>\n",
       "      <th>deal_with_later</th>\n",
       "    </tr>\n",
       "  </thead>\n",
       "  <tbody>\n",
       "    <tr>\n",
       "      <th>0</th>\n",
       "      <td>2014-01-07</td>\n",
       "      <td>Gusto Italian Restasuratthani Thb000000236000</td>\n",
       "      <td>-79.40</td>\n",
       "      <td>entertainment</td>\n",
       "      <td>Food</td>\n",
       "      <td>Gusto Italian</td>\n",
       "      <td>Restasuratthani</td>\n",
       "      <td>Thb000000236000</td>\n",
       "    </tr>\n",
       "    <tr>\n",
       "      <th>1</th>\n",
       "      <td>2014-01-07</td>\n",
       "      <td>Tpg Internet Pty Ltnorth Ryde Aud000000005999</td>\n",
       "      <td>-59.99</td>\n",
       "      <td>utilities</td>\n",
       "      <td>Phone/Internet</td>\n",
       "      <td>Tpg Internet Pty Ltnorth</td>\n",
       "      <td>Ryde</td>\n",
       "      <td>Aud000000005999</td>\n",
       "    </tr>\n",
       "    <tr>\n",
       "      <th>2</th>\n",
       "      <td>2014-03-07</td>\n",
       "      <td>Mtpmedia Temple I8775784000 Usd000000005000</td>\n",
       "      <td>-54.03</td>\n",
       "      <td>web hosting</td>\n",
       "      <td>None</td>\n",
       "      <td>Mtpmedia Temple</td>\n",
       "      <td>I8775784000</td>\n",
       "      <td>Usd000000005000</td>\n",
       "    </tr>\n",
       "    <tr>\n",
       "      <th>3</th>\n",
       "      <td>2014-04-07</td>\n",
       "      <td>Ebanking Transfer</td>\n",
       "      <td>665.00</td>\n",
       "      <td>transferring money</td>\n",
       "      <td>None</td>\n",
       "      <td>Ebanking Transfer</td>\n",
       "      <td>None</td>\n",
       "      <td>None</td>\n",
       "    </tr>\n",
       "    <tr>\n",
       "      <th>4</th>\n",
       "      <td>2014-04-07</td>\n",
       "      <td>Digitalocean Usd000000001000</td>\n",
       "      <td>-10.82</td>\n",
       "      <td>NaN</td>\n",
       "      <td>None</td>\n",
       "      <td>Digitalocean Usd000000001000</td>\n",
       "      <td>None</td>\n",
       "      <td>None</td>\n",
       "    </tr>\n",
       "  </tbody>\n",
       "</table>\n",
       "</div>"
      ],
      "text/plain": [
       "        date                                    description  amount  \\\n",
       "0 2014-01-07  Gusto Italian Restasuratthani Thb000000236000  -79.40   \n",
       "1 2014-01-07  Tpg Internet Pty Ltnorth Ryde Aud000000005999  -59.99   \n",
       "2 2014-03-07    Mtpmedia Temple I8775784000 Usd000000005000  -54.03   \n",
       "3 2014-04-07                              Ebanking Transfer  665.00   \n",
       "4 2014-04-07                   Digitalocean Usd000000001000  -10.82   \n",
       "\n",
       "             category     subcategory                      merchant  \\\n",
       "0       entertainment            Food                 Gusto Italian   \n",
       "1           utilities  Phone/Internet      Tpg Internet Pty Ltnorth   \n",
       "2         web hosting            None               Mtpmedia Temple   \n",
       "3  transferring money            None             Ebanking Transfer   \n",
       "4                 NaN            None  Digitalocean Usd000000001000   \n",
       "\n",
       "            suburb  deal_with_later  \n",
       "0  Restasuratthani  Thb000000236000  \n",
       "1             Ryde  Aud000000005999  \n",
       "2      I8775784000  Usd000000005000  \n",
       "3             None             None  \n",
       "4             None             None  "
      ]
     },
     "execution_count": 45,
     "metadata": {},
     "output_type": "execute_result"
    }
   ],
   "source": [
    "df.category = df.category.str.lower()\n",
    "df.head()"
   ]
  },
  {
   "cell_type": "code",
   "execution_count": null,
   "metadata": {},
   "outputs": [],
   "source": []
  }
 ],
 "metadata": {
  "kernelspec": {
   "display_name": "Python 3",
   "language": "python",
   "name": "python3"
  },
  "language_info": {
   "codemirror_mode": {
    "name": "ipython",
    "version": 3
   },
   "file_extension": ".py",
   "mimetype": "text/x-python",
   "name": "python",
   "nbconvert_exporter": "python",
   "pygments_lexer": "ipython3",
   "version": "3.6.1"
  }
 },
 "nbformat": 4,
 "nbformat_minor": 2
}
