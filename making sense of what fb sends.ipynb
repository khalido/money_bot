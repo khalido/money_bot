{
 "cells": [
  {
   "cell_type": "markdown",
   "metadata": {},
   "source": [
    "when we send facebook a meesage like `\"how much did I spend on coffee yesterday?\"` this is what we get back:"
   ]
  },
  {
   "cell_type": "code",
   "execution_count": 24,
   "metadata": {},
   "outputs": [
    {
     "data": {
      "text/plain": [
       "{'entry': [{'id': '123592025060269',\n",
       "   'messaging': [{'message': {'mid': 'mid.$cAABwaE6TmY1lOr3sflfCXiifv5Pg',\n",
       "      'nlp': {'entities': {'datetime': [{'confidence': 0.96891,\n",
       "          'grain': 'day',\n",
       "          'type': 'value',\n",
       "          'value': '2017-10-10T00:00:00.000+11:00',\n",
       "          'values': []}],\n",
       "        'intent': [{'confidence': 1, 'value': 'spend'}],\n",
       "        'search_query': [{'confidence': 0.93794,\n",
       "          'suggested': True,\n",
       "          'type': 'value',\n",
       "          'value': 'coffee'}]}},\n",
       "      'seq': 23125,\n",
       "      'text': 'how much did I spend on coffee yesterday?'},\n",
       "     'recipient': {'id': '123592025060269'},\n",
       "     'sender': {'id': '1718968874810833'},\n",
       "     'timestamp': 1507692422270}],\n",
       "   'time': 1507692422597}],\n",
       " 'object': 'page'}"
      ]
     },
     "execution_count": 24,
     "metadata": {},
     "output_type": "execute_result"
    }
   ],
   "source": [
    "data = {'object': 'page', 'entry': [{'id': '123592025060269', 'time': 1507692422597, 'messaging': [{'sender': {'id': '1718968874810833'}, 'recipient': {'id': '123592025060269'}, 'timestamp': 1507692422270, 'message': {'mid': 'mid.$cAABwaE6TmY1lOr3sflfCXiifv5Pg', 'seq': 23125, 'text': 'how much did I spend on coffee yesterday?', 'nlp': {'entities': {'search_query': [{'suggested': True, 'confidence': 0.93794, 'value': 'coffee', 'type': 'value'}], 'datetime': [{'confidence': 0.96891, 'values': [], 'value': '2017-10-10T00:00:00.000+11:00', 'grain': 'day', 'type': 'value'}], 'intent': [{'confidence': 1, 'value': 'spend'}]}}}}]}]}\n",
    "data"
   ]
  },
  {
   "cell_type": "code",
   "execution_count": 25,
   "metadata": {},
   "outputs": [
    {
     "data": {
      "text/plain": [
       "dict_keys(['object', 'entry'])"
      ]
     },
     "execution_count": 25,
     "metadata": {},
     "output_type": "execute_result"
    }
   ],
   "source": [
    "data.keys()"
   ]
  },
  {
   "cell_type": "markdown",
   "metadata": {},
   "source": [
    "the actual message is:"
   ]
  },
  {
   "cell_type": "code",
   "execution_count": 26,
   "metadata": {},
   "outputs": [
    {
     "data": {
      "text/plain": [
       "{'message': {'mid': 'mid.$cAABwaE6TmY1lOr3sflfCXiifv5Pg',\n",
       "  'nlp': {'entities': {'datetime': [{'confidence': 0.96891,\n",
       "      'grain': 'day',\n",
       "      'type': 'value',\n",
       "      'value': '2017-10-10T00:00:00.000+11:00',\n",
       "      'values': []}],\n",
       "    'intent': [{'confidence': 1, 'value': 'spend'}],\n",
       "    'search_query': [{'confidence': 0.93794,\n",
       "      'suggested': True,\n",
       "      'type': 'value',\n",
       "      'value': 'coffee'}]}},\n",
       "  'seq': 23125,\n",
       "  'text': 'how much did I spend on coffee yesterday?'},\n",
       " 'recipient': {'id': '123592025060269'},\n",
       " 'sender': {'id': '1718968874810833'},\n",
       " 'timestamp': 1507692422270}"
      ]
     },
     "execution_count": 26,
     "metadata": {},
     "output_type": "execute_result"
    }
   ],
   "source": [
    "msg = data['entry'][0][\"messaging\"][0]\n",
    "msg"
   ]
  },
  {
   "cell_type": "code",
   "execution_count": 27,
   "metadata": {},
   "outputs": [
    {
     "data": {
      "text/plain": [
       "dict_keys(['sender', 'recipient', 'timestamp', 'message'])"
      ]
     },
     "execution_count": 27,
     "metadata": {},
     "output_type": "execute_result"
    }
   ],
   "source": [
    "msg.keys()"
   ]
  },
  {
   "cell_type": "code",
   "execution_count": 30,
   "metadata": {},
   "outputs": [
    {
     "data": {
      "text/plain": [
       "dict_keys(['search_query', 'datetime', 'intent'])"
      ]
     },
     "execution_count": 30,
     "metadata": {},
     "output_type": "execute_result"
    }
   ],
   "source": [
    "msg[\"message\"][\"nlp\"][\"entities\"].keys()"
   ]
  },
  {
   "cell_type": "code",
   "execution_count": 28,
   "metadata": {},
   "outputs": [
    {
     "data": {
      "text/plain": [
       "{'entities': {'datetime': [{'confidence': 0.96891,\n",
       "    'grain': 'day',\n",
       "    'type': 'value',\n",
       "    'value': '2017-10-10T00:00:00.000+11:00',\n",
       "    'values': []}],\n",
       "  'intent': [{'confidence': 1, 'value': 'spend'}],\n",
       "  'search_query': [{'confidence': 0.93794,\n",
       "    'suggested': True,\n",
       "    'type': 'value',\n",
       "    'value': 'coffee'}]}}"
      ]
     },
     "execution_count": 28,
     "metadata": {},
     "output_type": "execute_result"
    }
   ],
   "source": [
    "msg[\"message\"][\"nlp\"]"
   ]
  },
  {
   "cell_type": "code",
   "execution_count": null,
   "metadata": {
    "collapsed": true
   },
   "outputs": [],
   "source": []
  }
 ],
 "metadata": {
  "kernelspec": {
   "display_name": "Python 3",
   "language": "python",
   "name": "python3"
  },
  "language_info": {
   "codemirror_mode": {
    "name": "ipython",
    "version": 3
   },
   "file_extension": ".py",
   "mimetype": "text/x-python",
   "name": "python",
   "nbconvert_exporter": "python",
   "pygments_lexer": "ipython3",
   "version": "3.6.1"
  }
 },
 "nbformat": 4,
 "nbformat_minor": 2
}
