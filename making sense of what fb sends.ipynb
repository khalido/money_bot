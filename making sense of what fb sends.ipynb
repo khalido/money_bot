{
 "cells": [
  {
   "cell_type": "markdown",
   "metadata": {},
   "source": [
    "when we send facebook a meesage like `\"how much did I spend on coffee yesterday?\"` this is what we get back:"
   ]
  },
  {
   "cell_type": "code",
   "execution_count": 45,
   "metadata": {},
   "outputs": [
    {
     "data": {
      "text/plain": [
       "{'entry': [{'id': '123592025060269',\n",
       "   'messaging': [{'message': {'mid': 'mid.$cAABwaE6TmY1lO6ib01fCmNP6BK4y',\n",
       "      'nlp': {'entities': {'datetime': [{'confidence': 0.968735,\n",
       "          'grain': 'month',\n",
       "          'type': 'value',\n",
       "          'value': '2017-09-01T00:00:00.000+11:00',\n",
       "          'values': []}],\n",
       "        'intent': [{'confidence': 1, 'value': 'spend'}],\n",
       "        'search_query': [{'confidence': 0.93746,\n",
       "          'suggested': True,\n",
       "          'type': 'value',\n",
       "          'value': 'coffee'}]}},\n",
       "      'seq': 23173,\n",
       "      'text': 'how much did I spend on coffee last month?'},\n",
       "     'recipient': {'id': '123592025060269'},\n",
       "     'sender': {'id': '1718968874810833'},\n",
       "     'timestamp': 1507707802579}],\n",
       "   'time': 1507707802953}],\n",
       " 'object': 'page'}"
      ]
     },
     "execution_count": 45,
     "metadata": {},
     "output_type": "execute_result"
    }
   ],
   "source": [
    "data = {'object': 'page', 'entry': [{'id': '123592025060269', 'time': 1507692422597, 'messaging': [{'sender': {'id': '1718968874810833'}, 'recipient': {'id': '123592025060269'}, 'timestamp': 1507692422270, 'message': {'mid': 'mid.$cAABwaE6TmY1lOr3sflfCXiifv5Pg', 'seq': 23125, 'text': 'how much did I spend on coffee yesterday?', 'nlp': {'entities': {'search_query': [{'suggested': True, 'confidence': 0.93794, 'value': 'coffee', 'type': 'value'}], 'datetime': [{'confidence': 0.96891, 'values': [], 'value': '2017-10-10T00:00:00.000+11:00', 'grain': 'day', 'type': 'value'}], 'intent': [{'confidence': 1, 'value': 'spend'}]}}}}]}]}\n",
    "\n",
    "data = {'object': 'page', 'entry': [{'id': '123592025060269', 'time': 1507707802953, 'messaging': [{'sender': {'id': '1718968874810833'}, 'recipient': {'id': '123592025060269'}, 'timestamp': 1507707802579, 'message': {'mid': 'mid.$cAABwaE6TmY1lO6ib01fCmNP6BK4y', 'seq': 23173, 'text': 'how much did I spend on coffee last month?', 'nlp': {'entities': {'search_query': [{'suggested': True, 'confidence': 0.93746, 'value': 'coffee', 'type': 'value'}], 'datetime': [{'confidence': 0.968735, 'values': [], 'value': '2017-09-01T00:00:00.000+11:00', 'grain': 'month', 'type': 'value'}], 'intent': [{'confidence': 1, 'value': 'spend'}]}}}}]}]}\n",
    "\n",
    "data"
   ]
  },
  {
   "cell_type": "code",
   "execution_count": 46,
   "metadata": {},
   "outputs": [
    {
     "data": {
      "text/plain": [
       "dict_keys(['object', 'entry'])"
      ]
     },
     "execution_count": 46,
     "metadata": {},
     "output_type": "execute_result"
    }
   ],
   "source": [
    "data.keys()"
   ]
  },
  {
   "cell_type": "markdown",
   "metadata": {},
   "source": [
    "the actual message is:"
   ]
  },
  {
   "cell_type": "code",
   "execution_count": 47,
   "metadata": {},
   "outputs": [
    {
     "data": {
      "text/plain": [
       "{'message': {'mid': 'mid.$cAABwaE6TmY1lO6ib01fCmNP6BK4y',\n",
       "  'nlp': {'entities': {'datetime': [{'confidence': 0.968735,\n",
       "      'grain': 'month',\n",
       "      'type': 'value',\n",
       "      'value': '2017-09-01T00:00:00.000+11:00',\n",
       "      'values': []}],\n",
       "    'intent': [{'confidence': 1, 'value': 'spend'}],\n",
       "    'search_query': [{'confidence': 0.93746,\n",
       "      'suggested': True,\n",
       "      'type': 'value',\n",
       "      'value': 'coffee'}]}},\n",
       "  'seq': 23173,\n",
       "  'text': 'how much did I spend on coffee last month?'},\n",
       " 'recipient': {'id': '123592025060269'},\n",
       " 'sender': {'id': '1718968874810833'},\n",
       " 'timestamp': 1507707802579}"
      ]
     },
     "execution_count": 47,
     "metadata": {},
     "output_type": "execute_result"
    }
   ],
   "source": [
    "msg = data['entry'][0][\"messaging\"][0]\n",
    "msg"
   ]
  },
  {
   "cell_type": "code",
   "execution_count": 48,
   "metadata": {},
   "outputs": [
    {
     "data": {
      "text/plain": [
       "dict_keys(['sender', 'recipient', 'timestamp', 'message'])"
      ]
     },
     "execution_count": 48,
     "metadata": {},
     "output_type": "execute_result"
    }
   ],
   "source": [
    "msg.keys()"
   ]
  },
  {
   "cell_type": "code",
   "execution_count": 49,
   "metadata": {},
   "outputs": [
    {
     "data": {
      "text/plain": [
       "dict_keys(['search_query', 'datetime', 'intent'])"
      ]
     },
     "execution_count": 49,
     "metadata": {},
     "output_type": "execute_result"
    }
   ],
   "source": [
    "msg[\"message\"][\"nlp\"][\"entities\"].keys()"
   ]
  },
  {
   "cell_type": "code",
   "execution_count": 50,
   "metadata": {},
   "outputs": [
    {
     "data": {
      "text/plain": [
       "{'entities': {'datetime': [{'confidence': 0.968735,\n",
       "    'grain': 'month',\n",
       "    'type': 'value',\n",
       "    'value': '2017-09-01T00:00:00.000+11:00',\n",
       "    'values': []}],\n",
       "  'intent': [{'confidence': 1, 'value': 'spend'}],\n",
       "  'search_query': [{'confidence': 0.93746,\n",
       "    'suggested': True,\n",
       "    'type': 'value',\n",
       "    'value': 'coffee'}]}}"
      ]
     },
     "execution_count": 50,
     "metadata": {},
     "output_type": "execute_result"
    }
   ],
   "source": [
    "nlp = msg[\"message\"][\"nlp\"]\n",
    "nlp"
   ]
  },
  {
   "cell_type": "code",
   "execution_count": 44,
   "metadata": {},
   "outputs": [
    {
     "data": {
      "text/plain": [
       "dict_keys(['search_query', 'datetime', 'intent'])"
      ]
     },
     "execution_count": 44,
     "metadata": {},
     "output_type": "execute_result"
    }
   ],
   "source": [
    "nlp[\"entities\"].keys()"
   ]
  },
  {
   "cell_type": "code",
   "execution_count": 42,
   "metadata": {},
   "outputs": [
    {
     "name": "stdout",
     "output_type": "stream",
     "text": [
      "{'confidence': 0.96891, 'values': [], 'value': '2017-10-10T00:00:00.000+11:00', 'grain': 'day', 'type': 'value'}\n"
     ]
    }
   ],
   "source": [
    "if \"datetime\" in nlp[\"entities\"]:\n",
    "    print(nlp[\"entities\"][\"datetime\"][0])"
   ]
  },
  {
   "cell_type": "code",
   "execution_count": 52,
   "metadata": {},
   "outputs": [
    {
     "data": {
      "text/plain": [
       "{'confidence': 0.968735,\n",
       " 'grain': 'month',\n",
       " 'type': 'value',\n",
       " 'value': '2017-09-01T00:00:00.000+11:00',\n",
       " 'values': []}"
      ]
     },
     "execution_count": 52,
     "metadata": {},
     "output_type": "execute_result"
    }
   ],
   "source": [
    "nlp[\"entities\"][\"datetime\"][0]"
   ]
  },
  {
   "cell_type": "code",
   "execution_count": 54,
   "metadata": {},
   "outputs": [
    {
     "data": {
      "text/plain": [
       "{'datetime': [{'confidence': 0.968735,\n",
       "   'grain': 'month',\n",
       "   'type': 'value',\n",
       "   'value': '2017-09-01T00:00:00.000+11:00',\n",
       "   'values': []}],\n",
       " 'intent': [{'confidence': 1, 'value': 'spend'}],\n",
       " 'search_query': [{'confidence': 0.93746,\n",
       "   'suggested': True,\n",
       "   'type': 'value',\n",
       "   'value': 'coffee'}]}"
      ]
     },
     "execution_count": 54,
     "metadata": {},
     "output_type": "execute_result"
    }
   ],
   "source": [
    "data['entry'][0][\"messaging\"][0][\"message\"][\"nlp\"][\"entities\"]"
   ]
  },
  {
   "cell_type": "code",
   "execution_count": 57,
   "metadata": {},
   "outputs": [
    {
     "data": {
      "text/plain": [
       "[{'confidence': 0.968735,\n",
       "  'grain': 'month',\n",
       "  'type': 'value',\n",
       "  'value': '2017-09-01T00:00:00.000+11:00',\n",
       "  'values': []}]"
      ]
     },
     "execution_count": 57,
     "metadata": {},
     "output_type": "execute_result"
    }
   ],
   "source": [
    "data['entry'][0][\"messaging\"][0][\"message\"][\"nlp\"][\"entities\"][\"datetime\"]"
   ]
  },
  {
   "cell_type": "code",
   "execution_count": 59,
   "metadata": {},
   "outputs": [
    {
     "data": {
      "text/plain": [
       "{'entry': [{'id': '123592025060269',\n",
       "   'messaging': [{'message': {'mid': 'mid.$cAABwaE6TmY1lO635FVfCmisiEyEn',\n",
       "      'nlp': {'entities': {'datetime': [{'confidence': 0.96374625,\n",
       "          'from': {'grain': 'day', 'value': '2018-07-01T00:00:00.000+11:00'},\n",
       "          'type': 'interval',\n",
       "          'values': [{'from': {'grain': 'day',\n",
       "             'value': '2018-07-01T00:00:00.000+11:00'},\n",
       "            'type': 'interval'},\n",
       "           {'from': {'grain': 'day', 'value': '2019-07-01T00:00:00.000+11:00'},\n",
       "            'type': 'interval'},\n",
       "           {'from': {'grain': 'day', 'value': '2020-07-01T00:00:00.000+11:00'},\n",
       "            'type': 'interval'}]}],\n",
       "        'intent': [{'confidence': 1, 'value': 'spend'}],\n",
       "        'search_query': [{'confidence': 0.87162,\n",
       "          'suggested': True,\n",
       "          'type': 'value',\n",
       "          'value': 'spend'}]}},\n",
       "      'seq': 23181,\n",
       "      'text': 'how much did I spend since 1st of july?'},\n",
       "     'recipient': {'id': '123592025060269'},\n",
       "     'sender': {'id': '1718968874810833'},\n",
       "     'timestamp': 1507708154133}],\n",
       "   'time': 1507708154576}],\n",
       " 'object': 'page'}"
      ]
     },
     "execution_count": 59,
     "metadata": {},
     "output_type": "execute_result"
    }
   ],
   "source": [
    "data = {'object': 'page', 'entry': [{'id': '123592025060269', 'time': 1507708154576, 'messaging': [{'sender': {'id': '1718968874810833'}, 'recipient': {'id': '123592025060269'}, 'timestamp': 1507708154133, 'message': {'mid': 'mid.$cAABwaE6TmY1lO635FVfCmisiEyEn', 'seq': 23181, 'text': 'how much did I spend since 1st of july?', 'nlp': {'entities': {'search_query': [{'suggested': True, 'confidence': 0.87162, 'value': 'spend', 'type': 'value'}], 'datetime': [{'confidence': 0.96374625, 'values': [{'from': {'value': '2018-07-01T00:00:00.000+11:00', 'grain': 'day'}, 'type': 'interval'}, {'from': {'value': '2019-07-01T00:00:00.000+11:00', 'grain': 'day'}, 'type': 'interval'}, {'from': {'value': '2020-07-01T00:00:00.000+11:00', 'grain': 'day'}, 'type': 'interval'}], 'from': {'value': '2018-07-01T00:00:00.000+11:00', 'grain': 'day'}, 'type': 'interval'}], 'intent': [{'confidence': 1, 'value': 'spend'}]}}}}]}]}\n",
    "data"
   ]
  },
  {
   "cell_type": "code",
   "execution_count": null,
   "metadata": {
    "collapsed": true
   },
   "outputs": [],
   "source": []
  }
 ],
 "metadata": {
  "kernelspec": {
   "display_name": "Python 3",
   "language": "python",
   "name": "python3"
  },
  "language_info": {
   "codemirror_mode": {
    "name": "ipython",
    "version": 3
   },
   "file_extension": ".py",
   "mimetype": "text/x-python",
   "name": "python",
   "nbconvert_exporter": "python",
   "pygments_lexer": "ipython3",
   "version": "3.6.1"
  }
 },
 "nbformat": 4,
 "nbformat_minor": 2
}
