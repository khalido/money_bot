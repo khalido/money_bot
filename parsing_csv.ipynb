{
 "cells": [
  {
   "cell_type": "code",
   "execution_count": 1,
   "metadata": {
    "collapsed": true
   },
   "outputs": [],
   "source": [
    "import boto3\n",
    "import configparser\n",
    "\n",
    "import pandas as pd\n",
    "import numpy as np\n",
    "\n",
    "%matplotlib inline\n",
    "import matplotlib.pyplot as plt \n",
    "import seaborn as sns"
   ]
  },
  {
   "cell_type": "code",
   "execution_count": 2,
   "metadata": {},
   "outputs": [
    {
     "data": {
      "text/html": [
       "<div>\n",
       "<style>\n",
       "    .dataframe thead tr:only-child th {\n",
       "        text-align: right;\n",
       "    }\n",
       "\n",
       "    .dataframe thead th {\n",
       "        text-align: left;\n",
       "    }\n",
       "\n",
       "    .dataframe tbody tr th {\n",
       "        vertical-align: top;\n",
       "    }\n",
       "</style>\n",
       "<table border=\"1\" class=\"dataframe\">\n",
       "  <thead>\n",
       "    <tr style=\"text-align: right;\">\n",
       "      <th></th>\n",
       "      <th>date</th>\n",
       "      <th>description</th>\n",
       "      <th>category</th>\n",
       "      <th>amount</th>\n",
       "      <th>notes</th>\n",
       "      <th>tags</th>\n",
       "      <th>bank</th>\n",
       "      <th>accountname</th>\n",
       "      <th>accountnumber</th>\n",
       "    </tr>\n",
       "  </thead>\n",
       "  <tbody>\n",
       "    <tr>\n",
       "      <th>0</th>\n",
       "      <td>01/09/2012</td>\n",
       "      <td>Credit Interest</td>\n",
       "      <td>Bank - Interest</td>\n",
       "      <td>1.95</td>\n",
       "      <td>NaN</td>\n",
       "      <td>NaN</td>\n",
       "      <td>COMMONWEALTH_BANK_NET_BANK</td>\n",
       "      <td>Savings</td>\n",
       "      <td>06 2210 1027 9497</td>\n",
       "    </tr>\n",
       "    <tr>\n",
       "      <th>1</th>\n",
       "      <td>08/09/2012</td>\n",
       "      <td>Parentalleavepay Tp1s4177210293941c</td>\n",
       "      <td>NaN</td>\n",
       "      <td>309.90</td>\n",
       "      <td>NaN</td>\n",
       "      <td>NaN</td>\n",
       "      <td>COMMONWEALTH_BANK_NET_BANK</td>\n",
       "      <td>Savings</td>\n",
       "      <td>06 2210 1027 9497</td>\n",
       "    </tr>\n",
       "    <tr>\n",
       "      <th>2</th>\n",
       "      <td>22/09/2012</td>\n",
       "      <td>Parentalleavepay Tp1s4527210293941c</td>\n",
       "      <td>NaN</td>\n",
       "      <td>1032.00</td>\n",
       "      <td>NaN</td>\n",
       "      <td>NaN</td>\n",
       "      <td>COMMONWEALTH_BANK_NET_BANK</td>\n",
       "      <td>Savings</td>\n",
       "      <td>06 2210 1027 9497</td>\n",
       "    </tr>\n",
       "    <tr>\n",
       "      <th>3</th>\n",
       "      <td>26/09/2012</td>\n",
       "      <td>Parentalleavepay Tp1s4597210293941c</td>\n",
       "      <td>NaN</td>\n",
       "      <td>206.60</td>\n",
       "      <td>NaN</td>\n",
       "      <td>NaN</td>\n",
       "      <td>COMMONWEALTH_BANK_NET_BANK</td>\n",
       "      <td>Savings</td>\n",
       "      <td>06 2210 1027 9497</td>\n",
       "    </tr>\n",
       "    <tr>\n",
       "      <th>4</th>\n",
       "      <td>01/10/2012</td>\n",
       "      <td>Credit Interest</td>\n",
       "      <td>Bank - Interest</td>\n",
       "      <td>3.57</td>\n",
       "      <td>NaN</td>\n",
       "      <td>NaN</td>\n",
       "      <td>COMMONWEALTH_BANK_NET_BANK</td>\n",
       "      <td>Savings</td>\n",
       "      <td>06 2210 1027 9497</td>\n",
       "    </tr>\n",
       "  </tbody>\n",
       "</table>\n",
       "</div>"
      ],
      "text/plain": [
       "         date                          description         category   amount  \\\n",
       "0  01/09/2012                      Credit Interest  Bank - Interest     1.95   \n",
       "1  08/09/2012  Parentalleavepay Tp1s4177210293941c              NaN   309.90   \n",
       "2  22/09/2012  Parentalleavepay Tp1s4527210293941c              NaN  1032.00   \n",
       "3  26/09/2012  Parentalleavepay Tp1s4597210293941c              NaN   206.60   \n",
       "4  01/10/2012                      Credit Interest  Bank - Interest     3.57   \n",
       "\n",
       "  notes tags                        bank accountname      accountnumber  \n",
       "0   NaN  NaN  COMMONWEALTH_BANK_NET_BANK     Savings  06 2210 1027 9497  \n",
       "1   NaN  NaN  COMMONWEALTH_BANK_NET_BANK     Savings  06 2210 1027 9497  \n",
       "2   NaN  NaN  COMMONWEALTH_BANK_NET_BANK     Savings  06 2210 1027 9497  \n",
       "3   NaN  NaN  COMMONWEALTH_BANK_NET_BANK     Savings  06 2210 1027 9497  \n",
       "4   NaN  NaN  COMMONWEALTH_BANK_NET_BANK     Savings  06 2210 1027 9497  "
      ]
     },
     "execution_count": 2,
     "metadata": {},
     "output_type": "execute_result"
    }
   ],
   "source": [
    "data = pd.read_csv(\"data/pocketbook-export.csv\")\n",
    "data.head()"
   ]
  },
  {
   "cell_type": "code",
   "execution_count": 6,
   "metadata": {},
   "outputs": [
    {
     "name": "stdout",
     "output_type": "stream",
     "text": [
      "you spent 85.0 at Amazon\n"
     ]
    },
    {
     "data": {
      "image/png": "[encoded data removed]",
      "text/plain": [
       "<matplotlib.figure.Figure at 0x10db87dd8>"
      ]
     },
     "metadata": {},
     "output_type": "display_data"
    }
   ],
   "source": [
    "# ignoring the date for now\n",
    "what=\"Amazon\"\n",
    "\n",
    "if what in data.category.values:\n",
    "    total_spend = -data[data.category.values == what][\"amount\"].sum()\n",
    "\n",
    "    # lets tell the user how much was spent on this category\n",
    "    msg = f\"you spent {total_spend} at {what}\"\n",
    "    print(msg)\n",
    "    \n",
    "    # lets plot something\n",
    "    plt.plot(data[data.category.values == what][\"amount\"])\n",
    "    plt.title(\"Spending on\" + what)\n",
    "    plt.xlabel(\"Dates\"), plt.ylabel(\"Dollars\")"
   ]
  },
  {
   "cell_type": "code",
   "execution_count": 9,
   "metadata": {},
   "outputs": [
    {
     "data": {
      "text/plain": [
       "{nan,\n",
       " 'Kids - Nappies/wipes',\n",
       " 'Entertainment - Misc',\n",
       " 'Excercise - Gym',\n",
       " 'Home - Rates',\n",
       " 'Salary',\n",
       " 'Travel - Train/Ferry',\n",
       " 'Kids - Childcare',\n",
       " 'Utilities - Water',\n",
       " 'Travel - Fees',\n",
       " 'Spending Money',\n",
       " 'Bicycle',\n",
       " 'Web Hosting',\n",
       " 'Clothing - Savi',\n",
       " 'Charity',\n",
       " 'Bank - Interest',\n",
       " 'Groceries',\n",
       " 'Amazon',\n",
       " 'Gifts',\n",
       " 'Travel - Overseas',\n",
       " 'Food',\n",
       " 'Travel - Taxi',\n",
       " 'Food - Lunches',\n",
       " 'Utilities - Power/Gas',\n",
       " 'Car - Insurance',\n",
       " 'Education - Books',\n",
       " 'Tech',\n",
       " 'Entertainment - Food',\n",
       " 'Utilities - Phone/Internet',\n",
       " 'Clothing',\n",
       " 'Travel - Gifts',\n",
       " 'Travel - Opal',\n",
       " 'Entertainment - Drinks',\n",
       " 'Bank - Fees',\n",
       " 'Car - Fuel',\n",
       " 'Office',\n",
       " 'Car - Parking',\n",
       " 'Home - Misc',\n",
       " 'Home - Mortgage',\n",
       " 'Transferring Money',\n",
       " 'Home - Rent',\n",
       " 'Car - Costs',\n",
       " 'Personal - Care',\n",
       " 'Education - Study',\n",
       " 'Home - Furniture',\n",
       " 'Food - Takeaway',\n",
       " 'Entertainment - Movies',\n",
       " 'Gadgets',\n",
       " 'Kids - Entertainment',\n",
       " 'Travel - Air'}"
      ]
     },
     "execution_count": 9,
     "metadata": {},
     "output_type": "execute_result"
    }
   ],
   "source": [
    "set(data.category.values)"
   ]
  },
  {
   "cell_type": "code",
   "execution_count": null,
   "metadata": {
    "collapsed": true
   },
   "outputs": [],
   "source": []
  }
 ],
 "metadata": {
  "kernelspec": {
   "display_name": "Python 3",
   "language": "python",
   "name": "python3"
  },
  "language_info": {
   "codemirror_mode": {
    "name": "ipython",
    "version": 3
   },
   "file_extension": ".py",
   "mimetype": "text/x-python",
   "name": "python",
   "nbconvert_exporter": "python",
   "pygments_lexer": "ipython3",
   "version": "3.6.1"
  }
 },
 "nbformat": 4,
 "nbformat_minor": 2
}
