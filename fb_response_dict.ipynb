{
 "cells": [
  {
   "cell_type": "code",
   "execution_count": 223,
   "metadata": {
    "collapsed": true
   },
   "outputs": [],
   "source": [
    "import pandas as pd\n",
    "import numpy as np\n",
    "%matplotlib inline\n",
    "import matplotlib.pyplot as plt \n",
    "import seaborn as sns\n",
    "import boto3\n",
    "import configparser"
   ]
  },
  {
   "cell_type": "markdown",
   "metadata": {},
   "source": [
    "when we send facebook a meesage like `\"how much did I spend on coffee yesterday?\"` this is what we get back:"
   ]
  },
  {
   "cell_type": "code",
   "execution_count": 120,
   "metadata": {},
   "outputs": [
    {
     "data": {
      "text/plain": [
       "{'entry': [{'id': '123592025060269',\n",
       "   'messaging': [{'message': {'mid': 'mid.$cAABwaE6TmY1lSTahAVfF_Fbbfii7',\n",
       "      'nlp': {'entities': {'datetime': [{'confidence': 0.96891,\n",
       "          'grain': 'day',\n",
       "          'type': 'value',\n",
       "          'value': '2017-10-13T00:00:00.000+11:00',\n",
       "          'values': []}],\n",
       "        'intent': [{'confidence': 1, 'value': 'spend'}],\n",
       "        'search_query': [{'confidence': 0.93661,\n",
       "          'suggested': True,\n",
       "          'type': 'value',\n",
       "          'value': 'coffee'}]}},\n",
       "      'seq': 23531,\n",
       "      'text': 'how much did I spend on coffee yesterday?'},\n",
       "     'recipient': {'id': '123592025060269'},\n",
       "     'sender': {'id': '1718968874810833'},\n",
       "     'timestamp': 1507935213825}],\n",
       "   'time': 1507935214061}],\n",
       " 'object': 'page'}"
      ]
     },
     "execution_count": 120,
     "metadata": {},
     "output_type": "execute_result"
    }
   ],
   "source": [
    "d = {'object': 'page', 'entry': [{'id': '123592025060269', 'time': 1507935214061, 'messaging': [{'sender': {'id': '1718968874810833'}, 'recipient': {'id': '123592025060269'}, 'timestamp': 1507935213825, 'message': {'mid': 'mid.$cAABwaE6TmY1lSTahAVfF_Fbbfii7', 'seq': 23531, 'text': 'how much did I spend on coffee yesterday?', 'nlp': {'entities': {'search_query': [{'suggested': True, 'confidence': 0.93661, 'value': 'coffee', 'type': 'value'}], 'datetime': [{'confidence': 0.96891, 'values': [], 'value': '2017-10-13T00:00:00.000+11:00', 'grain': 'day', 'type': 'value'}], 'intent': [{'confidence': 1, 'value': 'spend'}]}}}}]}]}\n",
    "d"
   ]
  },
  {
   "cell_type": "code",
   "execution_count": 121,
   "metadata": {},
   "outputs": [
    {
     "data": {
      "text/plain": [
       "dict_keys(['object', 'entry'])"
      ]
     },
     "execution_count": 121,
     "metadata": {},
     "output_type": "execute_result"
    }
   ],
   "source": [
    "d.keys()"
   ]
  },
  {
   "cell_type": "code",
   "execution_count": 122,
   "metadata": {},
   "outputs": [
    {
     "data": {
      "text/plain": [
       "dict_keys(['sender', 'recipient', 'timestamp', 'message'])"
      ]
     },
     "execution_count": 122,
     "metadata": {},
     "output_type": "execute_result"
    }
   ],
   "source": [
    "d['entry'][0]['messaging'][0].keys()"
   ]
  },
  {
   "cell_type": "code",
   "execution_count": 123,
   "metadata": {},
   "outputs": [
    {
     "data": {
      "text/plain": [
       "'how much did I spend on coffee yesterday?'"
      ]
     },
     "execution_count": 123,
     "metadata": {},
     "output_type": "execute_result"
    }
   ],
   "source": [
    "d['entry'][0]['messaging'][0]['message']['text']"
   ]
  },
  {
   "cell_type": "code",
   "execution_count": 124,
   "metadata": {},
   "outputs": [
    {
     "data": {
      "text/plain": [
       "{'message': {'mid': 'mid.$cAABwaE6TmY1lSTahAVfF_Fbbfii7',\n",
       "  'nlp': {'entities': {'datetime': [{'confidence': 0.96891,\n",
       "      'grain': 'day',\n",
       "      'type': 'value',\n",
       "      'value': '2017-10-13T00:00:00.000+11:00',\n",
       "      'values': []}],\n",
       "    'intent': [{'confidence': 1, 'value': 'spend'}],\n",
       "    'search_query': [{'confidence': 0.93661,\n",
       "      'suggested': True,\n",
       "      'type': 'value',\n",
       "      'value': 'coffee'}]}},\n",
       "  'seq': 23531,\n",
       "  'text': 'how much did I spend on coffee yesterday?'},\n",
       " 'recipient': {'id': '123592025060269'},\n",
       " 'sender': {'id': '1718968874810833'},\n",
       " 'timestamp': 1507935213825}"
      ]
     },
     "execution_count": 124,
     "metadata": {},
     "output_type": "execute_result"
    }
   ],
   "source": [
    "d['entry'][0]['messaging'][0]"
   ]
  },
  {
   "cell_type": "code",
   "execution_count": 125,
   "metadata": {},
   "outputs": [
    {
     "data": {
      "text/plain": [
       "{'message': {'mid': 'mid.$cAABwaE6TmY1lSTahAVfF_Fbbfii7',\n",
       "  'nlp': {'entities': {'datetime': [{'confidence': 0.96891,\n",
       "      'grain': 'day',\n",
       "      'type': 'value',\n",
       "      'value': '2017-10-13T00:00:00.000+11:00',\n",
       "      'values': []}],\n",
       "    'intent': [{'confidence': 1, 'value': 'spend'}],\n",
       "    'search_query': [{'confidence': 0.93661,\n",
       "      'suggested': True,\n",
       "      'type': 'value',\n",
       "      'value': 'coffee'}]}},\n",
       "  'seq': 23531,\n",
       "  'text': 'how much did I spend on coffee yesterday?'},\n",
       " 'recipient': {'id': '123592025060269'},\n",
       " 'sender': {'id': '1718968874810833'},\n",
       " 'timestamp': 1507935213825}"
      ]
     },
     "execution_count": 125,
     "metadata": {},
     "output_type": "execute_result"
    }
   ],
   "source": [
    "msg = d['entry'][0]['messaging'][0]\n",
    "msg"
   ]
  },
  {
   "cell_type": "code",
   "execution_count": 126,
   "metadata": {},
   "outputs": [
    {
     "data": {
      "text/plain": [
       "{'entities': {'datetime': [{'confidence': 0.96891,\n",
       "    'grain': 'day',\n",
       "    'type': 'value',\n",
       "    'value': '2017-10-13T00:00:00.000+11:00',\n",
       "    'values': []}],\n",
       "  'intent': [{'confidence': 1, 'value': 'spend'}],\n",
       "  'search_query': [{'confidence': 0.93661,\n",
       "    'suggested': True,\n",
       "    'type': 'value',\n",
       "    'value': 'coffee'}]}}"
      ]
     },
     "execution_count": 126,
     "metadata": {},
     "output_type": "execute_result"
    }
   ],
   "source": [
    "msg[\"message\"][\"nlp\"]"
   ]
  },
  {
   "cell_type": "code",
   "execution_count": 127,
   "metadata": {},
   "outputs": [
    {
     "name": "stdout",
     "output_type": "stream",
     "text": [
      "dict_keys(['search_query', 'datetime', 'intent'])\n"
     ]
    },
    {
     "data": {
      "text/plain": [
       "{'datetime': [{'confidence': 0.96891,\n",
       "   'grain': 'day',\n",
       "   'type': 'value',\n",
       "   'value': '2017-10-13T00:00:00.000+11:00',\n",
       "   'values': []}],\n",
       " 'intent': [{'confidence': 1, 'value': 'spend'}],\n",
       " 'search_query': [{'confidence': 0.93661,\n",
       "   'suggested': True,\n",
       "   'type': 'value',\n",
       "   'value': 'coffee'}]}"
      ]
     },
     "execution_count": 127,
     "metadata": {},
     "output_type": "execute_result"
    }
   ],
   "source": [
    "nlp_json = msg[\"message\"][\"nlp\"]['entities']\n",
    "print(nlp_json.keys())\n",
    "nlp_json"
   ]
  },
  {
   "cell_type": "markdown",
   "metadata": {},
   "source": [
    "making my own dict of the useful things in the nlp returned from the fb nlp engine:"
   ]
  },
  {
   "cell_type": "code",
   "execution_count": 128,
   "metadata": {},
   "outputs": [
    {
     "data": {
      "text/plain": [
       "{'date_grain': 'day',\n",
       " 'datetime': '2017-10-13T00:00:00.000+11:00',\n",
       " 'datetime_confidence': 0.96891,\n",
       " 'intent': 'spend',\n",
       " 'intent_confidence': 1,\n",
       " 'search_query': 'coffee',\n",
       " 'search_query_confidence': 0.93661}"
      ]
     },
     "execution_count": 128,
     "metadata": {},
     "output_type": "execute_result"
    }
   ],
   "source": [
    "nlp = {}\n",
    "for key in nlp_json.keys():\n",
    "    nlp[key] = nlp_json[key][0][\"value\"]\n",
    "    nlp[key+\"_confidence\"] = nlp_json[key][0][\"confidence\"]\n",
    "    if key == \"datetime\":\n",
    "        nlp[\"date_grain\"] = nlp_json[key][0][\"grain\"]\n",
    "nlp"
   ]
  },
  {
   "cell_type": "code",
   "execution_count": 129,
   "metadata": {},
   "outputs": [
    {
     "name": "stdout",
     "output_type": "stream",
     "text": [
      "{'search_query': 'coffee', 'search_query_confidence': 0.93661, 'datetime': '2017-10-13T00:00:00.000+11:00', 'datetime_confidence': 0.96891, 'date_grain': 'day', 'intent': 'spend', 'intent_confidence': 1}\n"
     ]
    }
   ],
   "source": [
    "if nlp[\"intent\"] == \"spend\" and nlp['intent_confidence'] > 0.4:\n",
    "    if \"search_query\" in nlp.keys():\n",
    "        "
   ]
  },
  {
   "cell_type": "code",
   "execution_count": 185,
   "metadata": {},
   "outputs": [
    {
     "data": {
      "text/plain": [
       "85.0"
      ]
     },
     "execution_count": 185,
     "metadata": {},
     "output_type": "execute_result"
    }
   ],
   "source": [
    "def cost(what, when=None):\n",
    "    # ignoring the date for now\n",
    "    if what in data.category.values:\n",
    "        return -data[data.category.values == what][\"amount\"].sum()\n",
    "\n",
    "cost(\"Amazon\")"
   ]
  },
  {
   "cell_type": "code",
   "execution_count": 131,
   "metadata": {},
   "outputs": [
    {
     "data": {
      "text/html": [
       "<div>\n",
       "<style>\n",
       "    .dataframe thead tr:only-child th {\n",
       "        text-align: right;\n",
       "    }\n",
       "\n",
       "    .dataframe thead th {\n",
       "        text-align: left;\n",
       "    }\n",
       "\n",
       "    .dataframe tbody tr th {\n",
       "        vertical-align: top;\n",
       "    }\n",
       "</style>\n",
       "<table border=\"1\" class=\"dataframe\">\n",
       "  <thead>\n",
       "    <tr style=\"text-align: right;\">\n",
       "      <th></th>\n",
       "      <th>date</th>\n",
       "      <th>description</th>\n",
       "      <th>category</th>\n",
       "      <th>amount</th>\n",
       "      <th>notes</th>\n",
       "      <th>tags</th>\n",
       "      <th>bank</th>\n",
       "      <th>accountname</th>\n",
       "      <th>accountnumber</th>\n",
       "    </tr>\n",
       "  </thead>\n",
       "  <tbody>\n",
       "    <tr>\n",
       "      <th>0</th>\n",
       "      <td>01/09/2012</td>\n",
       "      <td>Credit Interest</td>\n",
       "      <td>Bank - Interest</td>\n",
       "      <td>1.95</td>\n",
       "      <td>NaN</td>\n",
       "      <td>NaN</td>\n",
       "      <td>COMMONWEALTH_BANK_NET_BANK</td>\n",
       "      <td>Savings</td>\n",
       "      <td>06 2210 1027 9497</td>\n",
       "    </tr>\n",
       "    <tr>\n",
       "      <th>1</th>\n",
       "      <td>08/09/2012</td>\n",
       "      <td>Parentalleavepay Tp1s4177210293941c</td>\n",
       "      <td>NaN</td>\n",
       "      <td>309.90</td>\n",
       "      <td>NaN</td>\n",
       "      <td>NaN</td>\n",
       "      <td>COMMONWEALTH_BANK_NET_BANK</td>\n",
       "      <td>Savings</td>\n",
       "      <td>06 2210 1027 9497</td>\n",
       "    </tr>\n",
       "    <tr>\n",
       "      <th>2</th>\n",
       "      <td>22/09/2012</td>\n",
       "      <td>Parentalleavepay Tp1s4527210293941c</td>\n",
       "      <td>NaN</td>\n",
       "      <td>1032.00</td>\n",
       "      <td>NaN</td>\n",
       "      <td>NaN</td>\n",
       "      <td>COMMONWEALTH_BANK_NET_BANK</td>\n",
       "      <td>Savings</td>\n",
       "      <td>06 2210 1027 9497</td>\n",
       "    </tr>\n",
       "    <tr>\n",
       "      <th>3</th>\n",
       "      <td>26/09/2012</td>\n",
       "      <td>Parentalleavepay Tp1s4597210293941c</td>\n",
       "      <td>NaN</td>\n",
       "      <td>206.60</td>\n",
       "      <td>NaN</td>\n",
       "      <td>NaN</td>\n",
       "      <td>COMMONWEALTH_BANK_NET_BANK</td>\n",
       "      <td>Savings</td>\n",
       "      <td>06 2210 1027 9497</td>\n",
       "    </tr>\n",
       "    <tr>\n",
       "      <th>4</th>\n",
       "      <td>01/10/2012</td>\n",
       "      <td>Credit Interest</td>\n",
       "      <td>Bank - Interest</td>\n",
       "      <td>3.57</td>\n",
       "      <td>NaN</td>\n",
       "      <td>NaN</td>\n",
       "      <td>COMMONWEALTH_BANK_NET_BANK</td>\n",
       "      <td>Savings</td>\n",
       "      <td>06 2210 1027 9497</td>\n",
       "    </tr>\n",
       "  </tbody>\n",
       "</table>\n",
       "</div>"
      ],
      "text/plain": [
       "         date                          description         category   amount  \\\n",
       "0  01/09/2012                      Credit Interest  Bank - Interest     1.95   \n",
       "1  08/09/2012  Parentalleavepay Tp1s4177210293941c              NaN   309.90   \n",
       "2  22/09/2012  Parentalleavepay Tp1s4527210293941c              NaN  1032.00   \n",
       "3  26/09/2012  Parentalleavepay Tp1s4597210293941c              NaN   206.60   \n",
       "4  01/10/2012                      Credit Interest  Bank - Interest     3.57   \n",
       "\n",
       "  notes tags                        bank accountname      accountnumber  \n",
       "0   NaN  NaN  COMMONWEALTH_BANK_NET_BANK     Savings  06 2210 1027 9497  \n",
       "1   NaN  NaN  COMMONWEALTH_BANK_NET_BANK     Savings  06 2210 1027 9497  \n",
       "2   NaN  NaN  COMMONWEALTH_BANK_NET_BANK     Savings  06 2210 1027 9497  \n",
       "3   NaN  NaN  COMMONWEALTH_BANK_NET_BANK     Savings  06 2210 1027 9497  \n",
       "4   NaN  NaN  COMMONWEALTH_BANK_NET_BANK     Savings  06 2210 1027 9497  "
      ]
     },
     "execution_count": 131,
     "metadata": {},
     "output_type": "execute_result"
    }
   ],
   "source": [
    "data = pd.read_csv(\"data/pocketbook-export.csv\")\n",
    "data.head()"
   ]
  },
  {
   "cell_type": "code",
   "execution_count": 135,
   "metadata": {},
   "outputs": [
    {
     "data": {
      "text/plain": [
       "11.079999999999993"
      ]
     },
     "execution_count": 135,
     "metadata": {},
     "output_type": "execute_result"
    }
   ],
   "source": [
    "data[data[\"category\"] == \"Bank - Interest\"][\"amount\"].sum()"
   ]
  },
  {
   "cell_type": "code",
   "execution_count": 154,
   "metadata": {},
   "outputs": [
    {
     "data": {
      "text/html": [
       "<div>\n",
       "<style>\n",
       "    .dataframe thead tr:only-child th {\n",
       "        text-align: right;\n",
       "    }\n",
       "\n",
       "    .dataframe thead th {\n",
       "        text-align: left;\n",
       "    }\n",
       "\n",
       "    .dataframe tbody tr th {\n",
       "        vertical-align: top;\n",
       "    }\n",
       "</style>\n",
       "<table border=\"1\" class=\"dataframe\">\n",
       "  <thead>\n",
       "    <tr style=\"text-align: right;\">\n",
       "      <th></th>\n",
       "      <th>category</th>\n",
       "      <th>amount</th>\n",
       "    </tr>\n",
       "  </thead>\n",
       "  <tbody>\n",
       "    <tr>\n",
       "      <th>0</th>\n",
       "      <td>Amazon</td>\n",
       "      <td>-85.00</td>\n",
       "    </tr>\n",
       "    <tr>\n",
       "      <th>1</th>\n",
       "      <td>Bank - Fees</td>\n",
       "      <td>-1022.29</td>\n",
       "    </tr>\n",
       "    <tr>\n",
       "      <th>2</th>\n",
       "      <td>Bank - Interest</td>\n",
       "      <td>11.08</td>\n",
       "    </tr>\n",
       "    <tr>\n",
       "      <th>3</th>\n",
       "      <td>Bicycle</td>\n",
       "      <td>-177.00</td>\n",
       "    </tr>\n",
       "    <tr>\n",
       "      <th>4</th>\n",
       "      <td>Car - Costs</td>\n",
       "      <td>-1543.01</td>\n",
       "    </tr>\n",
       "  </tbody>\n",
       "</table>\n",
       "</div>"
      ],
      "text/plain": [
       "          category   amount\n",
       "0           Amazon   -85.00\n",
       "1      Bank - Fees -1022.29\n",
       "2  Bank - Interest    11.08\n",
       "3          Bicycle  -177.00\n",
       "4      Car - Costs -1543.01"
      ]
     },
     "execution_count": 154,
     "metadata": {},
     "output_type": "execute_result"
    }
   ],
   "source": [
    "totals = data.groupby(\"category\").sum().reset_index()\n",
    "totals.head()"
   ]
  },
  {
   "cell_type": "code",
   "execution_count": 167,
   "metadata": {},
   "outputs": [
    {
     "name": "stdout",
     "output_type": "stream",
     "text": [
      "0   -85.0\n",
      "Name: amount, dtype: float64\n"
     ]
    }
   ],
   "source": [
    "if \"Amazon\" in totals.category.values:\n",
    "    print(totals[totals.category==\"Amazon\"][\"amount\"])"
   ]
  },
  {
   "cell_type": "code",
   "execution_count": 180,
   "metadata": {},
   "outputs": [
    {
     "data": {
      "text/plain": [
       "-85.0"
      ]
     },
     "execution_count": 180,
     "metadata": {},
     "output_type": "execute_result"
    }
   ],
   "source": [
    "data[data.category.values == \"Amazon\"][\"amount\"].sum()"
   ]
  },
  {
   "cell_type": "code",
   "execution_count": 187,
   "metadata": {},
   "outputs": [
    {
     "data": {
      "text/plain": [
       "<matplotlib.axes._subplots.AxesSubplot at 0x11ba64320>"
      ]
     },
     "execution_count": 187,
     "metadata": {},
     "output_type": "execute_result"
    },
    {
     "data": {
      "image/png": "[encoded data removed]",
      "text/plain": [
       "<matplotlib.figure.Figure at 0x118358358>"
      ]
     },
     "metadata": {},
     "output_type": "display_data"
    }
   ],
   "source": [
    "data[data.category.values == \"Amazon\"][\"amount\"].hist()"
   ]
  },
  {
   "cell_type": "code",
   "execution_count": 197,
   "metadata": {},
   "outputs": [
    {
     "data": {
      "image/png": "[encoded data removed]",
      "text/plain": [
       "<matplotlib.figure.Figure at 0x11c65fc50>"
      ]
     },
     "metadata": {},
     "output_type": "display_data"
    }
   ],
   "source": [
    "plt.plot(data[data.category.values == \"Amazon\"][\"amount\"])\n",
    "plt.title(\"Spending on Amazon\")\n",
    "plt.savefig(\"images/test.png\")"
   ]
  },
  {
   "cell_type": "code",
   "execution_count": 195,
   "metadata": {},
   "outputs": [
    {
     "data": {
      "text/plain": [
       "72      06/07/2014\n",
       "82      09/07/2014\n",
       "110     13/07/2014\n",
       "556     12/10/2014\n",
       "1120    22/02/2015\n",
       "1121    22/02/2015\n",
       "1129    24/02/2015\n",
       "Name: date, dtype: object"
      ]
     },
     "execution_count": 195,
     "metadata": {},
     "output_type": "execute_result"
    }
   ],
   "source": [
    "data[data.category.values == \"Amazon\"][\"date\"]"
   ]
  },
  {
   "cell_type": "code",
   "execution_count": 205,
   "metadata": {},
   "outputs": [
    {
     "data": {
      "text/plain": [
       "{'url': 'imagesaaaa'}"
      ]
     },
     "execution_count": 205,
     "metadata": {},
     "output_type": "execute_result"
    }
   ],
   "source": [
    "image_name=\"aaaa\"\n",
    "{\"url\": \"images\"+image_name}"
   ]
  },
  {
   "cell_type": "code",
   "execution_count": 206,
   "metadata": {},
   "outputs": [
    {
     "data": {
      "text/plain": [
       "{'message': {'attachment': {'payload': {'url': 'https://5d04f8fe.ngrok.io/static/test.png'},\n",
       "   'type': 'image'}},\n",
       " 'recipient': {'id': '1718968874810833'}}"
      ]
     },
     "execution_count": 206,
     "metadata": {},
     "output_type": "execute_result"
    }
   ],
   "source": [
    "i = {'recipient': {'id': '1718968874810833'}, 'message': {'attachment': {'type': 'image', 'payload': {'url': 'https://5d04f8fe.ngrok.io/static/test.png'}}}}\n",
    "i"
   ]
  },
  {
   "cell_type": "code",
   "execution_count": 218,
   "metadata": {},
   "outputs": [
    {
     "name": "stdout",
     "output_type": "stream",
     "text": [
      "you spent -11.079999999999993 at Bank - Interest\n"
     ]
    },
    {
     "data": {
      "image/png": "[encoded data removed]",
      "text/plain": [
       "<matplotlib.figure.Figure at 0x11cb43ef0>"
      ]
     },
     "metadata": {},
     "output_type": "display_data"
    }
   ],
   "source": [
    "def cost_of(user_id, what, when=None):\n",
    "    # ignoring the date for now\n",
    "    if what in data.category.values:\n",
    "        total_spend = -data[data.category.values == what][\"amount\"].sum()\n",
    "        \n",
    "        # lets tell the user how much was spent on this category\n",
    "        msg = f\"you spent {total_spend} at {what}\"\n",
    "        print(msg)\n",
    "        #reply(user_id, msg)\n",
    "\n",
    "        # lets plot something\n",
    "        plt.hist(data[data.category.values == what][\"amount\"])\n",
    "        plt.title(\"Spending on\" + what)\n",
    "        plt.xlabel(\"Dates\"), plt.ylabel(\"Dollars\")\n",
    "        plt.savefig(\"static/test.png\")\n",
    "        plt.show()\n",
    "        #reply(user_id, image_name=\"test.png\")\n",
    "\n",
    "    else: # dealing for when the users category isn't found\n",
    "        msg = f\"Can't find {when} in your transactions, pls try something else\"\n",
    "        reply(user_id, msg)\n",
    "        \n",
    "cost_of(333, \"Bank - Interest\")"
   ]
  },
  {
   "cell_type": "markdown",
   "metadata": {},
   "source": [
    "testing to see if can upload images to s3"
   ]
  },
  {
   "cell_type": "code",
   "execution_count": 232,
   "metadata": {},
   "outputs": [],
   "source": [
    "# api keys are in config.ini to keep them out of github\n",
    "config = configparser.ConfigParser()\n",
    "config.read('config.ini')\n",
    "try:\n",
    "    APP_ID = config['facebook'][\"APP_ID\"]\n",
    "    PAGE_ACCESS_TOKEN = config['facebook'][\"PAGE_ACCESS_TOKEN\"]\n",
    "    VERIFY_TOKEN = config['facebook'][\"VERIFY_TOKEN\"]\n",
    "    APP_SECRET = config['facebook'][\"APP_SECRET\"]\n",
    "    PAGE_ID = config['facebook'][\"PAGE_ID\"]\n",
    "    aws_access_key_id = config['amazon']['aws_access_key_id']\n",
    "    aws_secret_access_key = config['amazon']['aws_secret_access_key']\n",
    "\n",
    "except KeyError:\n",
    "    print(\"Missing keys in the config.ini file\")"
   ]
  },
  {
   "cell_type": "code",
   "execution_count": 260,
   "metadata": {},
   "outputs": [],
   "source": [
    "# lower lever way to use s3\n",
    "s3 = boto3.client(\n",
    "    's3',\n",
    "    aws_access_key_id=aws_access_key_id,\n",
    "    aws_secret_access_key=aws_secret_access_key,\n",
    "    )"
   ]
  },
  {
   "cell_type": "code",
   "execution_count": 335,
   "metadata": {},
   "outputs": [
    {
     "data": {
      "text/plain": [
       "s3.Object(bucket_name='paisabot', key='test123.png')"
      ]
     },
     "execution_count": 335,
     "metadata": {},
     "output_type": "execute_result"
    }
   ],
   "source": [
    "# higher level api\n",
    "s3 = boto3.resource('s3', \n",
    "                    aws_access_key_id=aws_access_key_id, \n",
    "                    aws_secret_access_key=aws_secret_access_key)\n",
    "\n",
    "data = open('static/test.png', 'rb')\n",
    "s3.Bucket(\"paisabot\").put_object(Key=\"test123.png\", Body=data, ContentType=\"image/png\", ACL=\"public-read\")"
   ]
  },
  {
   "cell_type": "code",
   "execution_count": 336,
   "metadata": {},
   "outputs": [
    {
     "data": {
      "text/plain": [
       "'http://paisabot.s3.amazonaws.com/aaaa'"
      ]
     },
     "execution_count": 336,
     "metadata": {},
     "output_type": "execute_result"
    }
   ],
   "source": [
    "url = \"http://paisabot.s3.amazonaws.com/\" + image_name\n",
    "url"
   ]
  },
  {
   "cell_type": "code",
   "execution_count": null,
   "metadata": {
    "collapsed": true
   },
   "outputs": [],
   "source": []
  }
 ],
 "metadata": {
  "kernelspec": {
   "display_name": "Python 3",
   "language": "python",
   "name": "python3"
  },
  "language_info": {
   "codemirror_mode": {
    "name": "ipython",
    "version": 3
   },
   "file_extension": ".py",
   "mimetype": "text/x-python",
   "name": "python",
   "nbconvert_exporter": "python",
   "pygments_lexer": "ipython3",
   "version": "3.6.1"
  }
 },
 "nbformat": 4,
 "nbformat_minor": 2
}
