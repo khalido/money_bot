{
 "cells": [
  {
   "cell_type": "code",
   "execution_count": 2,
   "metadata": {},
   "outputs": [
    {
     "name": "stderr",
     "output_type": "stream",
     "text": [
      "Using TensorFlow backend.\n"
     ]
    }
   ],
   "source": [
    "import pandas as pd\n",
    "import numpy as np\n",
    "%matplotlib inline\n",
    "\n",
    "import matplotlib.pyplot as plt \n",
    "import seaborn as sns\n",
    "import utils\n",
    "import gensim\n",
    "import sklearn\n",
    "import keras\n",
    "\n",
    "from sklearn_pandas import DataFrameMapper"
   ]
  },
  {
   "cell_type": "markdown",
   "metadata": {
    "collapsed": true
   },
   "source": [
    "# the data "
   ]
  },
  {
   "cell_type": "code",
   "execution_count": 3,
   "metadata": {},
   "outputs": [
    {
     "name": "stdout",
     "output_type": "stream",
     "text": [
      "parsed file with pocketbook parser\n",
      "Dataframe shape: (4270, 8)\n",
      "Dataframe shape after dropping nulls: (4270, 8)\n"
     ]
    },
    {
     "data": {
      "text/html": [
       "<div>\n",
       "<style>\n",
       "    .dataframe thead tr:only-child th {\n",
       "        text-align: right;\n",
       "    }\n",
       "\n",
       "    .dataframe thead th {\n",
       "        text-align: left;\n",
       "    }\n",
       "\n",
       "    .dataframe tbody tr th {\n",
       "        vertical-align: top;\n",
       "    }\n",
       "</style>\n",
       "<table border=\"1\" class=\"dataframe\">\n",
       "  <thead>\n",
       "    <tr style=\"text-align: right;\">\n",
       "      <th></th>\n",
       "      <th>date</th>\n",
       "      <th>description</th>\n",
       "      <th>amount</th>\n",
       "      <th>category</th>\n",
       "      <th>subcategory</th>\n",
       "      <th>merchant</th>\n",
       "      <th>suburb</th>\n",
       "      <th>deal_with_later</th>\n",
       "    </tr>\n",
       "  </thead>\n",
       "  <tbody>\n",
       "    <tr>\n",
       "      <th>0</th>\n",
       "      <td>2014-01-07</td>\n",
       "      <td>Gusto Italian Restasuratthani Thb000000236000</td>\n",
       "      <td>-79.40</td>\n",
       "      <td>entertainment</td>\n",
       "      <td>Food</td>\n",
       "      <td>Gusto Italian</td>\n",
       "      <td>Restasuratthani</td>\n",
       "      <td>Thb000000236000</td>\n",
       "    </tr>\n",
       "    <tr>\n",
       "      <th>1</th>\n",
       "      <td>2014-01-07</td>\n",
       "      <td>Tpg Internet Pty Ltnorth Ryde Aud000000005999</td>\n",
       "      <td>-59.99</td>\n",
       "      <td>utilities</td>\n",
       "      <td>Phone/Internet</td>\n",
       "      <td>Tpg Internet Pty Ltnorth</td>\n",
       "      <td>Ryde</td>\n",
       "      <td>Aud000000005999</td>\n",
       "    </tr>\n",
       "    <tr>\n",
       "      <th>2</th>\n",
       "      <td>2014-03-07</td>\n",
       "      <td>Mtpmedia Temple I8775784000 Usd000000005000</td>\n",
       "      <td>-54.03</td>\n",
       "      <td>web hosting</td>\n",
       "      <td>None</td>\n",
       "      <td>Mtpmedia Temple</td>\n",
       "      <td>I8775784000</td>\n",
       "      <td>Usd000000005000</td>\n",
       "    </tr>\n",
       "    <tr>\n",
       "      <th>3</th>\n",
       "      <td>2014-04-07</td>\n",
       "      <td>Ebanking Transfer</td>\n",
       "      <td>665.00</td>\n",
       "      <td>transferring money</td>\n",
       "      <td>None</td>\n",
       "      <td>Ebanking Transfer</td>\n",
       "      <td>None</td>\n",
       "      <td>None</td>\n",
       "    </tr>\n",
       "    <tr>\n",
       "      <th>4</th>\n",
       "      <td>2014-04-07</td>\n",
       "      <td>Digitalocean Usd000000001000</td>\n",
       "      <td>-10.82</td>\n",
       "      <td>NaN</td>\n",
       "      <td>None</td>\n",
       "      <td>Digitalocean Usd000000001000</td>\n",
       "      <td>None</td>\n",
       "      <td>None</td>\n",
       "    </tr>\n",
       "  </tbody>\n",
       "</table>\n",
       "</div>"
      ],
      "text/plain": [
       "        date                                    description  amount  \\\n",
       "0 2014-01-07  Gusto Italian Restasuratthani Thb000000236000  -79.40   \n",
       "1 2014-01-07  Tpg Internet Pty Ltnorth Ryde Aud000000005999  -59.99   \n",
       "2 2014-03-07    Mtpmedia Temple I8775784000 Usd000000005000  -54.03   \n",
       "3 2014-04-07                              Ebanking Transfer  665.00   \n",
       "4 2014-04-07                   Digitalocean Usd000000001000  -10.82   \n",
       "\n",
       "             category     subcategory                      merchant  \\\n",
       "0       entertainment            Food                 Gusto Italian   \n",
       "1           utilities  Phone/Internet      Tpg Internet Pty Ltnorth   \n",
       "2         web hosting            None               Mtpmedia Temple   \n",
       "3  transferring money            None             Ebanking Transfer   \n",
       "4                 NaN            None  Digitalocean Usd000000001000   \n",
       "\n",
       "            suburb  deal_with_later  \n",
       "0  Restasuratthani  Thb000000236000  \n",
       "1             Ryde  Aud000000005999  \n",
       "2      I8775784000  Usd000000005000  \n",
       "3             None             None  \n",
       "4             None             None  "
      ]
     },
     "execution_count": 3,
     "metadata": {},
     "output_type": "execute_result"
    }
   ],
   "source": [
    "df = utils.parse_csv(\"data/pocketbook-export.csv\", \"pocketbook\")\n",
    "print(f\"Dataframe shape: {df.shape}\")\n",
    "df.dropna()\n",
    "print(f\"Dataframe shape after dropping nulls: {df.shape}\")\n",
    "df.head()"
   ]
  },
  {
   "cell_type": "markdown",
   "metadata": {
    "collapsed": true
   },
   "source": [
    "# word2vec\n",
    "\n",
    "I'm going to use the merchant, suburb and amount to train a classifier to predict the category. So first of all we need to transfrom text into vectors. For that I'm using word2vec on googles pretrained word2vec"
   ]
  },
  {
   "cell_type": "code",
   "execution_count": 4,
   "metadata": {},
   "outputs": [],
   "source": [
    "from gensim.models.keyedvectors import KeyedVectors\n",
    "word_vectors = KeyedVectors.load_word2vec_format('/Users/ko/Downloads/GoogleNews-vectors-negative300.bin', binary=True)"
   ]
  },
  {
   "cell_type": "markdown",
   "metadata": {},
   "source": [
    "now i need a set of unique words which are used in my data set. So first getting all the words from the description\""
   ]
  },
  {
   "cell_type": "code",
   "execution_count": 5,
   "metadata": {},
   "outputs": [
    {
     "data": {
      "text/plain": [
       "9760"
      ]
     },
     "execution_count": 5,
     "metadata": {},
     "output_type": "execute_result"
    }
   ],
   "source": [
    "all_words = []\n",
    "for sentence in df['merchant'].values.astype(str):\n",
    "    for wrd in sentence.split(\" \"): \n",
    "        all_words.append(wrd.lower())\n",
    "len(all_words)"
   ]
  },
  {
   "cell_type": "markdown",
   "metadata": {},
   "source": [
    "now making a set of them:"
   ]
  },
  {
   "cell_type": "code",
   "execution_count": 6,
   "metadata": {},
   "outputs": [
    {
     "data": {
      "text/plain": [
       "1556"
      ]
     },
     "execution_count": 6,
     "metadata": {},
     "output_type": "execute_result"
    }
   ],
   "source": [
    "words_set = set(all_words)\n",
    "len(words_set)"
   ]
  },
  {
   "cell_type": "markdown",
   "metadata": {},
   "source": [
    "and then my own dictionary:"
   ]
  },
  {
   "cell_type": "code",
   "execution_count": 7,
   "metadata": {},
   "outputs": [
    {
     "data": {
      "text/plain": [
       "((300,), (300,))"
      ]
     },
     "execution_count": 7,
     "metadata": {},
     "output_type": "execute_result"
    }
   ],
   "source": [
    "word2vec = {}\n",
    "for wrd in words_set:\n",
    "    alpha_wrd = \"\".join([c for c in wrd if c.isalpha()])\n",
    "    try:\n",
    "        word2vec[wrd] = np.array(word_vectors.word_vec(alpha_wrd), dtype=np.float64)\n",
    "    except KeyError:\n",
    "        word2vec[wrd] = np.array(np.zeros(300,))\n",
    "\n",
    "        # deal with None values\n",
    "word2vec[None] = np.array(np.zeros(300,))\n",
    "word2vec[np.NaN] = np.array(np.zeros(300,))\n",
    "\n",
    "word2vec[\"7eleven\"].shape, word2vec[np.NaN].shape"
   ]
  },
  {
   "cell_type": "code",
   "execution_count": 8,
   "metadata": {},
   "outputs": [
    {
     "data": {
      "text/plain": [
       "array([ 0.13476562, -0.05004883,  0.05859375,  0.16503906,  0.2578125 ,\n",
       "       -0.21875   , -0.17089844, -0.05517578,  0.08056641,  0.01275635])"
      ]
     },
     "execution_count": 8,
     "metadata": {},
     "output_type": "execute_result"
    }
   ],
   "source": [
    "word2vec[\"7eleven\"][:10]"
   ]
  },
  {
   "cell_type": "markdown",
   "metadata": {},
   "source": [
    "Now all our word vectors are numpy arrays of shape (300,). So after our text is vectorized think [SVD](http://scikit-learn.org/stable/modules/generated/sklearn.decomposition.TruncatedSVD.html)."
   ]
  },
  {
   "cell_type": "markdown",
   "metadata": {},
   "source": [
    "## now to convert the text col into vectors"
   ]
  },
  {
   "cell_type": "markdown",
   "metadata": {},
   "source": [
    "first, to split the text column so there is one col per word"
   ]
  },
  {
   "cell_type": "markdown",
   "metadata": {},
   "source": [
    "so I'm only going to use the merchant col for now.  "
   ]
  },
  {
   "cell_type": "code",
   "execution_count": 10,
   "metadata": {},
   "outputs": [
    {
     "data": {
      "text/plain": [
       "((900,), dtype('float64'))"
      ]
     },
     "execution_count": 10,
     "metadata": {},
     "output_type": "execute_result"
    }
   ],
   "source": [
    "def vectorize_words(s, total_words=3, blank_word=np.zeros(300)):\n",
    "    \"\"\"takes in a sentence s, splits it into words, converts each words into a vector,\n",
    "    then concatanates them and returns a flattened array. if number of words is less than\n",
    "    total_words, pads with a blank array\"\"\"\n",
    "    list_words = s.split(\" \")\n",
    "    vec = []\n",
    "    for i in range(total_words):\n",
    "        try:\n",
    "            vec.append(word2vec[list_words[i]])\n",
    "        except:\n",
    "            vec.append(blank_word)\n",
    "            \n",
    "    return np.array(vec).flatten()\n",
    "\n",
    "a = vectorize_words(\"gusto italian\")\n",
    "a.shape, a.dtype"
   ]
  },
  {
   "cell_type": "code",
   "execution_count": 16,
   "metadata": {},
   "outputs": [
    {
     "data": {
      "text/html": [
       "<div>\n",
       "<style>\n",
       "    .dataframe thead tr:only-child th {\n",
       "        text-align: right;\n",
       "    }\n",
       "\n",
       "    .dataframe thead th {\n",
       "        text-align: left;\n",
       "    }\n",
       "\n",
       "    .dataframe tbody tr th {\n",
       "        vertical-align: top;\n",
       "    }\n",
       "</style>\n",
       "<table border=\"1\" class=\"dataframe\">\n",
       "  <thead>\n",
       "    <tr style=\"text-align: right;\">\n",
       "      <th></th>\n",
       "      <th>date</th>\n",
       "      <th>description</th>\n",
       "      <th>amount</th>\n",
       "      <th>category</th>\n",
       "      <th>subcategory</th>\n",
       "      <th>merchant</th>\n",
       "      <th>suburb</th>\n",
       "      <th>deal_with_later</th>\n",
       "    </tr>\n",
       "  </thead>\n",
       "  <tbody>\n",
       "    <tr>\n",
       "      <th>0</th>\n",
       "      <td>2014-01-07</td>\n",
       "      <td>Gusto Italian Restasuratthani Thb000000236000</td>\n",
       "      <td>-79.40</td>\n",
       "      <td>entertainment</td>\n",
       "      <td>Food</td>\n",
       "      <td>gusto italian</td>\n",
       "      <td>Restasuratthani</td>\n",
       "      <td>Thb000000236000</td>\n",
       "    </tr>\n",
       "    <tr>\n",
       "      <th>1</th>\n",
       "      <td>2014-01-07</td>\n",
       "      <td>Tpg Internet Pty Ltnorth Ryde Aud000000005999</td>\n",
       "      <td>-59.99</td>\n",
       "      <td>utilities</td>\n",
       "      <td>Phone/Internet</td>\n",
       "      <td>tpg internet pty ltnorth</td>\n",
       "      <td>Ryde</td>\n",
       "      <td>Aud000000005999</td>\n",
       "    </tr>\n",
       "  </tbody>\n",
       "</table>\n",
       "</div>"
      ],
      "text/plain": [
       "        date                                    description  amount  \\\n",
       "0 2014-01-07  Gusto Italian Restasuratthani Thb000000236000  -79.40   \n",
       "1 2014-01-07  Tpg Internet Pty Ltnorth Ryde Aud000000005999  -59.99   \n",
       "\n",
       "        category     subcategory                  merchant           suburb  \\\n",
       "0  entertainment            Food             gusto italian  Restasuratthani   \n",
       "1      utilities  Phone/Internet  tpg internet pty ltnorth             Ryde   \n",
       "\n",
       "   deal_with_later  \n",
       "0  Thb000000236000  \n",
       "1  Aud000000005999  "
      ]
     },
     "execution_count": 16,
     "metadata": {},
     "output_type": "execute_result"
    }
   ],
   "source": [
    "df['merchant'] = df.merchant.str.lower()\n",
    "df.head(2)"
   ]
  },
  {
   "cell_type": "code",
   "execution_count": 773,
   "metadata": {},
   "outputs": [
    {
     "data": {
      "text/html": [
       "<div>\n",
       "<style>\n",
       "    .dataframe thead tr:only-child th {\n",
       "        text-align: right;\n",
       "    }\n",
       "\n",
       "    .dataframe thead th {\n",
       "        text-align: left;\n",
       "    }\n",
       "\n",
       "    .dataframe tbody tr th {\n",
       "        vertical-align: top;\n",
       "    }\n",
       "</style>\n",
       "<table border=\"1\" class=\"dataframe\">\n",
       "  <thead>\n",
       "    <tr style=\"text-align: right;\">\n",
       "      <th></th>\n",
       "      <th>feature_1</th>\n",
       "      <th>feature_2</th>\n",
       "      <th>feature_3</th>\n",
       "      <th>feature_4</th>\n",
       "      <th>feature_5</th>\n",
       "      <th>feature_6</th>\n",
       "    </tr>\n",
       "  </thead>\n",
       "  <tbody>\n",
       "    <tr>\n",
       "      <th>0</th>\n",
       "      <td>gusto</td>\n",
       "      <td>italian</td>\n",
       "      <td>None</td>\n",
       "      <td>None</td>\n",
       "      <td>None</td>\n",
       "      <td>None</td>\n",
       "    </tr>\n",
       "    <tr>\n",
       "      <th>1</th>\n",
       "      <td>tpg</td>\n",
       "      <td>internet</td>\n",
       "      <td>pty</td>\n",
       "      <td>ltnorth</td>\n",
       "      <td>None</td>\n",
       "      <td>None</td>\n",
       "    </tr>\n",
       "    <tr>\n",
       "      <th>2</th>\n",
       "      <td>mtpmedia</td>\n",
       "      <td>temple</td>\n",
       "      <td>None</td>\n",
       "      <td>None</td>\n",
       "      <td>None</td>\n",
       "      <td>None</td>\n",
       "    </tr>\n",
       "    <tr>\n",
       "      <th>3</th>\n",
       "      <td>ebanking</td>\n",
       "      <td>transfer</td>\n",
       "      <td>None</td>\n",
       "      <td>None</td>\n",
       "      <td>None</td>\n",
       "      <td>None</td>\n",
       "    </tr>\n",
       "    <tr>\n",
       "      <th>4</th>\n",
       "      <td>digitalocean</td>\n",
       "      <td>usd000000001000</td>\n",
       "      <td>None</td>\n",
       "      <td>None</td>\n",
       "      <td>None</td>\n",
       "      <td>None</td>\n",
       "    </tr>\n",
       "  </tbody>\n",
       "</table>\n",
       "</div>"
      ],
      "text/plain": [
       "      feature_1        feature_2 feature_3 feature_4 feature_5 feature_6\n",
       "0         gusto          italian      None      None      None      None\n",
       "1           tpg         internet       pty   ltnorth      None      None\n",
       "2      mtpmedia           temple      None      None      None      None\n",
       "3      ebanking         transfer      None      None      None      None\n",
       "4  digitalocean  usd000000001000      None      None      None      None"
      ]
     },
     "execution_count": 773,
     "metadata": {},
     "output_type": "execute_result"
    }
   ],
   "source": [
    "# this code block isn't in use for now, since we don't need to split up the merchant into multiple cols\n",
    "df['merchant'] = df.merchant.str.lower()\n",
    "df2 = df['merchant'].str.split(\" \", expand=True)\n",
    "df2.columns = [\"feature_\" + str(i) for i in range(1,df2.shape[1]+1)]\n",
    "df2.head()"
   ]
  },
  {
   "cell_type": "code",
   "execution_count": 17,
   "metadata": {},
   "outputs": [
    {
     "data": {
      "text/html": [
       "<div>\n",
       "<style>\n",
       "    .dataframe thead tr:only-child th {\n",
       "        text-align: right;\n",
       "    }\n",
       "\n",
       "    .dataframe thead th {\n",
       "        text-align: left;\n",
       "    }\n",
       "\n",
       "    .dataframe tbody tr th {\n",
       "        vertical-align: top;\n",
       "    }\n",
       "</style>\n",
       "<table border=\"1\" class=\"dataframe\">\n",
       "  <thead>\n",
       "    <tr style=\"text-align: right;\">\n",
       "      <th></th>\n",
       "      <th>date</th>\n",
       "      <th>description</th>\n",
       "      <th>amount</th>\n",
       "      <th>category</th>\n",
       "      <th>subcategory</th>\n",
       "      <th>merchant</th>\n",
       "      <th>suburb</th>\n",
       "      <th>deal_with_later</th>\n",
       "      <th>merchant_vec</th>\n",
       "    </tr>\n",
       "  </thead>\n",
       "  <tbody>\n",
       "    <tr>\n",
       "      <th>0</th>\n",
       "      <td>2014-01-07</td>\n",
       "      <td>Gusto Italian Restasuratthani Thb000000236000</td>\n",
       "      <td>-79.40</td>\n",
       "      <td>entertainment</td>\n",
       "      <td>Food</td>\n",
       "      <td>gusto italian</td>\n",
       "      <td>Restasuratthani</td>\n",
       "      <td>Thb000000236000</td>\n",
       "      <td>[0.28125, 0.158203125, 0.038330078125, -0.0011...</td>\n",
       "    </tr>\n",
       "    <tr>\n",
       "      <th>1</th>\n",
       "      <td>2014-01-07</td>\n",
       "      <td>Tpg Internet Pty Ltnorth Ryde Aud000000005999</td>\n",
       "      <td>-59.99</td>\n",
       "      <td>utilities</td>\n",
       "      <td>Phone/Internet</td>\n",
       "      <td>tpg internet pty ltnorth</td>\n",
       "      <td>Ryde</td>\n",
       "      <td>Aud000000005999</td>\n",
       "      <td>[0.052734375, 0.2451171875, 0.150390625, 0.265...</td>\n",
       "    </tr>\n",
       "    <tr>\n",
       "      <th>2</th>\n",
       "      <td>2014-03-07</td>\n",
       "      <td>Mtpmedia Temple I8775784000 Usd000000005000</td>\n",
       "      <td>-54.03</td>\n",
       "      <td>web hosting</td>\n",
       "      <td>None</td>\n",
       "      <td>mtpmedia temple</td>\n",
       "      <td>I8775784000</td>\n",
       "      <td>Usd000000005000</td>\n",
       "      <td>[0.0, 0.0, 0.0, 0.0, 0.0, 0.0, 0.0, 0.0, 0.0, ...</td>\n",
       "    </tr>\n",
       "  </tbody>\n",
       "</table>\n",
       "</div>"
      ],
      "text/plain": [
       "        date                                    description  amount  \\\n",
       "0 2014-01-07  Gusto Italian Restasuratthani Thb000000236000  -79.40   \n",
       "1 2014-01-07  Tpg Internet Pty Ltnorth Ryde Aud000000005999  -59.99   \n",
       "2 2014-03-07    Mtpmedia Temple I8775784000 Usd000000005000  -54.03   \n",
       "\n",
       "        category     subcategory                  merchant           suburb  \\\n",
       "0  entertainment            Food             gusto italian  Restasuratthani   \n",
       "1      utilities  Phone/Internet  tpg internet pty ltnorth             Ryde   \n",
       "2    web hosting            None           mtpmedia temple      I8775784000   \n",
       "\n",
       "   deal_with_later                                       merchant_vec  \n",
       "0  Thb000000236000  [0.28125, 0.158203125, 0.038330078125, -0.0011...  \n",
       "1  Aud000000005999  [0.052734375, 0.2451171875, 0.150390625, 0.265...  \n",
       "2  Usd000000005000  [0.0, 0.0, 0.0, 0.0, 0.0, 0.0, 0.0, 0.0, 0.0, ...  "
      ]
     },
     "execution_count": 17,
     "metadata": {},
     "output_type": "execute_result"
    }
   ],
   "source": [
    "df['merchant_vec'] = df['merchant'].astype(str).apply(vectorize_words)\n",
    "df.head(3)"
   ]
  },
  {
   "cell_type": "markdown",
   "metadata": {},
   "source": [
    "## convert category labels into numbers\n",
    "\n",
    "one way is to turn the categorys into numbers, though ideally we would onehot encode:"
   ]
  },
  {
   "cell_type": "code",
   "execution_count": 19,
   "metadata": {},
   "outputs": [
    {
     "data": {
      "text/html": [
       "<div>\n",
       "<style>\n",
       "    .dataframe thead tr:only-child th {\n",
       "        text-align: right;\n",
       "    }\n",
       "\n",
       "    .dataframe thead th {\n",
       "        text-align: left;\n",
       "    }\n",
       "\n",
       "    .dataframe tbody tr th {\n",
       "        vertical-align: top;\n",
       "    }\n",
       "</style>\n",
       "<table border=\"1\" class=\"dataframe\">\n",
       "  <thead>\n",
       "    <tr style=\"text-align: right;\">\n",
       "      <th></th>\n",
       "      <th>date</th>\n",
       "      <th>description</th>\n",
       "      <th>amount</th>\n",
       "      <th>category</th>\n",
       "      <th>subcategory</th>\n",
       "      <th>merchant</th>\n",
       "      <th>suburb</th>\n",
       "      <th>deal_with_later</th>\n",
       "      <th>merchant_vec</th>\n",
       "      <th>cat</th>\n",
       "    </tr>\n",
       "  </thead>\n",
       "  <tbody>\n",
       "    <tr>\n",
       "      <th>0</th>\n",
       "      <td>2014-01-07</td>\n",
       "      <td>Gusto Italian Restasuratthani Thb000000236000</td>\n",
       "      <td>-79.40</td>\n",
       "      <td>entertainment</td>\n",
       "      <td>Food</td>\n",
       "      <td>gusto italian</td>\n",
       "      <td>Restasuratthani</td>\n",
       "      <td>Thb000000236000</td>\n",
       "      <td>[0.28125, 0.158203125, 0.038330078125, -0.0011...</td>\n",
       "      <td>7</td>\n",
       "    </tr>\n",
       "    <tr>\n",
       "      <th>1</th>\n",
       "      <td>2014-01-07</td>\n",
       "      <td>Tpg Internet Pty Ltnorth Ryde Aud000000005999</td>\n",
       "      <td>-59.99</td>\n",
       "      <td>utilities</td>\n",
       "      <td>Phone/Internet</td>\n",
       "      <td>tpg internet pty ltnorth</td>\n",
       "      <td>Ryde</td>\n",
       "      <td>Aud000000005999</td>\n",
       "      <td>[0.052734375, 0.2451171875, 0.150390625, 0.265...</td>\n",
       "      <td>21</td>\n",
       "    </tr>\n",
       "    <tr>\n",
       "      <th>2</th>\n",
       "      <td>2014-03-07</td>\n",
       "      <td>Mtpmedia Temple I8775784000 Usd000000005000</td>\n",
       "      <td>-54.03</td>\n",
       "      <td>web hosting</td>\n",
       "      <td>None</td>\n",
       "      <td>mtpmedia temple</td>\n",
       "      <td>I8775784000</td>\n",
       "      <td>Usd000000005000</td>\n",
       "      <td>[0.0, 0.0, 0.0, 0.0, 0.0, 0.0, 0.0, 0.0, 0.0, ...</td>\n",
       "      <td>22</td>\n",
       "    </tr>\n",
       "  </tbody>\n",
       "</table>\n",
       "</div>"
      ],
      "text/plain": [
       "        date                                    description  amount  \\\n",
       "0 2014-01-07  Gusto Italian Restasuratthani Thb000000236000  -79.40   \n",
       "1 2014-01-07  Tpg Internet Pty Ltnorth Ryde Aud000000005999  -59.99   \n",
       "2 2014-03-07    Mtpmedia Temple I8775784000 Usd000000005000  -54.03   \n",
       "\n",
       "        category     subcategory                  merchant           suburb  \\\n",
       "0  entertainment            Food             gusto italian  Restasuratthani   \n",
       "1      utilities  Phone/Internet  tpg internet pty ltnorth             Ryde   \n",
       "2    web hosting            None           mtpmedia temple      I8775784000   \n",
       "\n",
       "   deal_with_later                                       merchant_vec  cat  \n",
       "0  Thb000000236000  [0.28125, 0.158203125, 0.038330078125, -0.0011...    7  \n",
       "1  Aud000000005999  [0.052734375, 0.2451171875, 0.150390625, 0.265...   21  \n",
       "2  Usd000000005000  [0.0, 0.0, 0.0, 0.0, 0.0, 0.0, 0.0, 0.0, 0.0, ...   22  "
      ]
     },
     "execution_count": 19,
     "metadata": {},
     "output_type": "execute_result"
    }
   ],
   "source": [
    "df['category'] = df['category'].astype(\"category\")\n",
    "df['cat'] = df['category'].cat.codes\n",
    "df.head(3)"
   ]
  },
  {
   "cell_type": "markdown",
   "metadata": {},
   "source": [
    "now to make numpy arrays of the data to feed sklean with.\n",
    "\n",
    "### y data"
   ]
  },
  {
   "cell_type": "code",
   "execution_count": 21,
   "metadata": {},
   "outputs": [
    {
     "data": {
      "text/plain": [
       "((4270,), array([ 7, 21, 22, 19, -1, 20, 20,  6, 11, -1]))"
      ]
     },
     "execution_count": 21,
     "metadata": {},
     "output_type": "execute_result"
    }
   ],
   "source": [
    "y_df = df.cat\n",
    "y_data = np.array(y_df.as_matrix(), dtype=int)\n",
    "y_data.shape, y_data[:10]"
   ]
  },
  {
   "cell_type": "markdown",
   "metadata": {},
   "source": [
    "y looks good, so moving on to x data\n",
    "\n",
    "### x data\n",
    "\n",
    "sklearn expects a flat vector. Now there is a better way to do this, but doing this for now:"
   ]
  },
  {
   "cell_type": "code",
   "execution_count": 43,
   "metadata": {},
   "outputs": [
    {
     "name": "stdout",
     "output_type": "stream",
     "text": [
      "x data shape: (4270, 900), (900,)\n"
     ]
    }
   ],
   "source": [
    "x_data = []\n",
    "\n",
    "for row in df['merchant_vec']:\n",
    "    x_data.append(row)\n",
    "\n",
    "x_data = np.array(x_data)\n",
    "print(f\"x data shape: {x_data.shape}, {x_data[0].shape}\")"
   ]
  },
  {
   "cell_type": "code",
   "execution_count": 46,
   "metadata": {},
   "outputs": [],
   "source": [
    "from sklearn.decomposition import TruncatedSVD\n",
    "svd = TruncatedSVD()\n",
    "x_reduced = svd.fit_transform(x_data)"
   ]
  },
  {
   "cell_type": "code",
   "execution_count": 70,
   "metadata": {},
   "outputs": [
    {
     "data": {
      "image/png": "[encoded data removed]",
      "text/plain": [
       "<matplotlib.figure.Figure at 0x24c8f8588>"
      ]
     },
     "metadata": {},
     "output_type": "display_data"
    }
   ],
   "source": [
    "plt.scatter(x_reduced[:,:1], x_reduced[:,1:2], label=y_data)\n",
    "plt.legend();"
   ]
  },
  {
   "cell_type": "markdown",
   "metadata": {},
   "source": [
    "# now to actually train a classifier"
   ]
  },
  {
   "cell_type": "code",
   "execution_count": 129,
   "metadata": {},
   "outputs": [
    {
     "data": {
      "text/plain": [
       "LogisticRegression(C=1.0, class_weight=None, dual=False, fit_intercept=True,\n",
       "          intercept_scaling=1, max_iter=100, multi_class='ovr', n_jobs=1,\n",
       "          penalty='l2', random_state=None, solver='liblinear', tol=0.0001,\n",
       "          verbose=0, warm_start=False)"
      ]
     },
     "execution_count": 129,
     "metadata": {},
     "output_type": "execute_result"
    }
   ],
   "source": [
    "from sklearn.model_selection import train_test_split, cross_val_score\n",
    "X_train, X_test, y_train, y_test = train_test_split(x_data, y_data, test_size=0.15, random_state=0)\n",
    "#X_train, X_test, y_train, y_test = train_test_split(x_reduced, y_data, test_size=0.15, random_state=0)\n",
    "clf = sklearn.linear_model.LogisticRegression()\n",
    "clf.fit(X_train,y_train)"
   ]
  },
  {
   "cell_type": "code",
   "execution_count": 130,
   "metadata": {},
   "outputs": [
    {
     "data": {
      "text/plain": [
       "0.85491419656786272"
      ]
     },
     "execution_count": 130,
     "metadata": {},
     "output_type": "execute_result"
    }
   ],
   "source": [
    "clf.score(X_test, y_test)"
   ]
  },
  {
   "cell_type": "code",
   "execution_count": 131,
   "metadata": {},
   "outputs": [
    {
     "name": "stderr",
     "output_type": "stream",
     "text": [
      "/Users/ko/anaconda/lib/python3.6/site-packages/sklearn/model_selection/_split.py:581: Warning: The least populated class in y has only 1 members, which is too few. The minimum number of groups for any class cannot be less than n_splits=5.\n",
      "  % (min_groups, self.n_splits)), Warning)\n"
     ]
    },
    {
     "data": {
      "text/plain": [
       "array([ 0.80740741,  0.7480916 ,  0.796875  ,  0.8       ,  0.81147541])"
      ]
     },
     "execution_count": 131,
     "metadata": {},
     "output_type": "execute_result"
    }
   ],
   "source": [
    "scores = cross_val_score(clf, X_test, y_test, cv=5)\n",
    "scores"
   ]
  },
  {
   "cell_type": "code",
   "execution_count": 134,
   "metadata": {},
   "outputs": [
    {
     "data": {
      "text/plain": [
       "0.79276988405938176"
      ]
     },
     "execution_count": 134,
     "metadata": {},
     "output_type": "execute_result"
    }
   ],
   "source": [
    "np.mean(scores)"
   ]
  },
  {
   "cell_type": "markdown",
   "metadata": {},
   "source": [
    "# ok lets try keras"
   ]
  },
  {
   "cell_type": "markdown",
   "metadata": {},
   "source": [
    "basic keras model"
   ]
  },
  {
   "cell_type": "code",
   "execution_count": 135,
   "metadata": {},
   "outputs": [
    {
     "data": {
      "text/plain": [
       "(3629, 900)"
      ]
     },
     "execution_count": 135,
     "metadata": {},
     "output_type": "execute_result"
    }
   ],
   "source": [
    "X_train.shape"
   ]
  },
  {
   "cell_type": "code",
   "execution_count": 148,
   "metadata": {},
   "outputs": [],
   "source": [
    "from keras.models import Sequential\n",
    "from keras.layers import Dense, Activation\n",
    "\n",
    "model = Sequential()\n",
    "model.add(Dense(64, activation='relu', input_shape=(None, 900)))\n",
    "model.add(Dense(128, activation='relu'))\n",
    "model.add(Dense(20, activation='softmax'))\n",
    "model.compile(optimizer='rmsprop',\n",
    "              loss='categorical_crossentropy',\n",
    "              metrics=['accuracy'])"
   ]
  },
  {
   "cell_type": "code",
   "execution_count": 147,
   "metadata": {},
   "outputs": [
    {
     "data": {
      "text/plain": [
       "(3629, 900)"
      ]
     },
     "execution_count": 147,
     "metadata": {},
     "output_type": "execute_result"
    }
   ],
   "source": [
    "one_hot_labels = keras.utils.to_categorical(y_train)\n",
    "X_train.shape"
   ]
  },
  {
   "cell_type": "code",
   "execution_count": 149,
   "metadata": {},
   "outputs": [
    {
     "ename": "ValueError",
     "evalue": "Error when checking input: expected dense_22_input to have 3 dimensions, but got array with shape (3629, 900)",
     "output_type": "error",
     "traceback": [
      "\u001b[0;31m---------------------------------------------------------------------------\u001b[0m",
      "\u001b[0;31mValueError\u001b[0m                                Traceback (most recent call last)",
      "\u001b[0;32m<ipython-input-149-e8cedfce98b6>\u001b[0m in \u001b[0;36m<module>\u001b[0;34m()\u001b[0m\n\u001b[0;32m----> 1\u001b[0;31m \u001b[0mmodel\u001b[0m\u001b[0;34m.\u001b[0m\u001b[0mfit\u001b[0m\u001b[0;34m(\u001b[0m\u001b[0mX_train\u001b[0m\u001b[0;34m,\u001b[0m \u001b[0my_train\u001b[0m\u001b[0;34m,\u001b[0m \u001b[0mepochs\u001b[0m\u001b[0;34m=\u001b[0m\u001b[0;36m5\u001b[0m\u001b[0;34m,\u001b[0m \u001b[0mbatch_size\u001b[0m\u001b[0;34m=\u001b[0m\u001b[0;36m64\u001b[0m\u001b[0;34m)\u001b[0m\u001b[0;34m\u001b[0m\u001b[0m\n\u001b[0m",
      "\u001b[0;32m/Users/ko/anaconda/lib/python3.6/site-packages/keras/models.py\u001b[0m in \u001b[0;36mfit\u001b[0;34m(self, x, y, batch_size, epochs, verbose, callbacks, validation_split, validation_data, shuffle, class_weight, sample_weight, initial_epoch, **kwargs)\u001b[0m\n\u001b[1;32m    868\u001b[0m                               \u001b[0mclass_weight\u001b[0m\u001b[0;34m=\u001b[0m\u001b[0mclass_weight\u001b[0m\u001b[0;34m,\u001b[0m\u001b[0;34m\u001b[0m\u001b[0m\n\u001b[1;32m    869\u001b[0m                               \u001b[0msample_weight\u001b[0m\u001b[0;34m=\u001b[0m\u001b[0msample_weight\u001b[0m\u001b[0;34m,\u001b[0m\u001b[0;34m\u001b[0m\u001b[0m\n\u001b[0;32m--> 870\u001b[0;31m                               initial_epoch=initial_epoch)\n\u001b[0m\u001b[1;32m    871\u001b[0m \u001b[0;34m\u001b[0m\u001b[0m\n\u001b[1;32m    872\u001b[0m     def evaluate(self, x, y, batch_size=32, verbose=1,\n",
      "\u001b[0;32m/Users/ko/anaconda/lib/python3.6/site-packages/keras/engine/training.py\u001b[0m in \u001b[0;36mfit\u001b[0;34m(self, x, y, batch_size, epochs, verbose, callbacks, validation_split, validation_data, shuffle, class_weight, sample_weight, initial_epoch, **kwargs)\u001b[0m\n\u001b[1;32m   1433\u001b[0m             \u001b[0mclass_weight\u001b[0m\u001b[0;34m=\u001b[0m\u001b[0mclass_weight\u001b[0m\u001b[0;34m,\u001b[0m\u001b[0;34m\u001b[0m\u001b[0m\n\u001b[1;32m   1434\u001b[0m             \u001b[0mcheck_batch_axis\u001b[0m\u001b[0;34m=\u001b[0m\u001b[0;32mFalse\u001b[0m\u001b[0;34m,\u001b[0m\u001b[0;34m\u001b[0m\u001b[0m\n\u001b[0;32m-> 1435\u001b[0;31m             batch_size=batch_size)\n\u001b[0m\u001b[1;32m   1436\u001b[0m         \u001b[0;31m# Prepare validation data.\u001b[0m\u001b[0;34m\u001b[0m\u001b[0;34m\u001b[0m\u001b[0m\n\u001b[1;32m   1437\u001b[0m         \u001b[0;32mif\u001b[0m \u001b[0mvalidation_data\u001b[0m\u001b[0;34m:\u001b[0m\u001b[0;34m\u001b[0m\u001b[0m\n",
      "\u001b[0;32m/Users/ko/anaconda/lib/python3.6/site-packages/keras/engine/training.py\u001b[0m in \u001b[0;36m_standardize_user_data\u001b[0;34m(self, x, y, sample_weight, class_weight, check_batch_axis, batch_size)\u001b[0m\n\u001b[1;32m   1309\u001b[0m                                     \u001b[0mself\u001b[0m\u001b[0;34m.\u001b[0m\u001b[0m_feed_input_shapes\u001b[0m\u001b[0;34m,\u001b[0m\u001b[0;34m\u001b[0m\u001b[0m\n\u001b[1;32m   1310\u001b[0m                                     \u001b[0mcheck_batch_axis\u001b[0m\u001b[0;34m=\u001b[0m\u001b[0;32mFalse\u001b[0m\u001b[0;34m,\u001b[0m\u001b[0;34m\u001b[0m\u001b[0m\n\u001b[0;32m-> 1311\u001b[0;31m                                     exception_prefix='input')\n\u001b[0m\u001b[1;32m   1312\u001b[0m         y = _standardize_input_data(y, self._feed_output_names,\n\u001b[1;32m   1313\u001b[0m                                     \u001b[0moutput_shapes\u001b[0m\u001b[0;34m,\u001b[0m\u001b[0;34m\u001b[0m\u001b[0m\n",
      "\u001b[0;32m/Users/ko/anaconda/lib/python3.6/site-packages/keras/engine/training.py\u001b[0m in \u001b[0;36m_standardize_input_data\u001b[0;34m(data, names, shapes, check_batch_axis, exception_prefix)\u001b[0m\n\u001b[1;32m    125\u001b[0m                                  \u001b[0;34m' to have '\u001b[0m \u001b[0;34m+\u001b[0m \u001b[0mstr\u001b[0m\u001b[0;34m(\u001b[0m\u001b[0mlen\u001b[0m\u001b[0;34m(\u001b[0m\u001b[0mshapes\u001b[0m\u001b[0;34m[\u001b[0m\u001b[0mi\u001b[0m\u001b[0;34m]\u001b[0m\u001b[0;34m)\u001b[0m\u001b[0;34m)\u001b[0m \u001b[0;34m+\u001b[0m\u001b[0;34m\u001b[0m\u001b[0m\n\u001b[1;32m    126\u001b[0m                                  \u001b[0;34m' dimensions, but got array with shape '\u001b[0m \u001b[0;34m+\u001b[0m\u001b[0;34m\u001b[0m\u001b[0m\n\u001b[0;32m--> 127\u001b[0;31m                                  str(array.shape))\n\u001b[0m\u001b[1;32m    128\u001b[0m             \u001b[0;32mfor\u001b[0m \u001b[0mj\u001b[0m\u001b[0;34m,\u001b[0m \u001b[0;34m(\u001b[0m\u001b[0mdim\u001b[0m\u001b[0;34m,\u001b[0m \u001b[0mref_dim\u001b[0m\u001b[0;34m)\u001b[0m \u001b[0;32min\u001b[0m \u001b[0menumerate\u001b[0m\u001b[0;34m(\u001b[0m\u001b[0mzip\u001b[0m\u001b[0;34m(\u001b[0m\u001b[0marray\u001b[0m\u001b[0;34m.\u001b[0m\u001b[0mshape\u001b[0m\u001b[0;34m,\u001b[0m \u001b[0mshapes\u001b[0m\u001b[0;34m[\u001b[0m\u001b[0mi\u001b[0m\u001b[0;34m]\u001b[0m\u001b[0;34m)\u001b[0m\u001b[0;34m)\u001b[0m\u001b[0;34m:\u001b[0m\u001b[0;34m\u001b[0m\u001b[0m\n\u001b[1;32m    129\u001b[0m                 \u001b[0;32mif\u001b[0m \u001b[0;32mnot\u001b[0m \u001b[0mj\u001b[0m \u001b[0;32mand\u001b[0m \u001b[0;32mnot\u001b[0m \u001b[0mcheck_batch_axis\u001b[0m\u001b[0;34m:\u001b[0m\u001b[0;34m\u001b[0m\u001b[0m\n",
      "\u001b[0;31mValueError\u001b[0m: Error when checking input: expected dense_22_input to have 3 dimensions, but got array with shape (3629, 900)"
     ]
    }
   ],
   "source": [
    "model.fit(X_train, y_train, epochs=5, batch_size=64)"
   ]
  },
  {
   "cell_type": "code",
   "execution_count": null,
   "metadata": {},
   "outputs": [],
   "source": []
  }
 ],
 "metadata": {
  "kernelspec": {
   "display_name": "Python 3",
   "language": "python",
   "name": "python3"
  },
  "language_info": {
   "codemirror_mode": {
    "name": "ipython",
    "version": 3
   },
   "file_extension": ".py",
   "mimetype": "text/x-python",
   "name": "python",
   "nbconvert_exporter": "python",
   "pygments_lexer": "ipython3",
   "version": "3.6.1"
  }
 },
 "nbformat": 4,
 "nbformat_minor": 2
}
